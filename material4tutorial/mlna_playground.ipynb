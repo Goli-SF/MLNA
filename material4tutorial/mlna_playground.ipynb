{
 "cells": [
  {
   "cell_type": "markdown",
   "id": "0ac723ab-fcf5-43ce-9962-1a8c390bb6c2",
   "metadata": {},
   "source": [
    "# This notebook walks you through the most important functions and modules of the mlna package. "
   ]
  },
  {
   "cell_type": "code",
   "execution_count": null,
   "id": "a95adf0b-12fa-4ebf-88c9-06abd40259ed",
   "metadata": {},
   "outputs": [],
   "source": [
    "#! pip install mlna"
   ]
  },
  {
   "cell_type": "code",
   "execution_count": null,
   "id": "08432ace-dce5-4ad3-868e-740e90d3b5d5",
   "metadata": {},
   "outputs": [],
   "source": [
    "import pandas as pd\n",
    "import pickle\n",
    "from mlna import network, user_input "
   ]
  },
  {
   "cell_type": "code",
   "execution_count": null,
   "id": "8d045fd9-57a7-413e-8422-8412b6c29549",
   "metadata": {
    "scrolled": true
   },
   "outputs": [],
   "source": [
    "# loading the texts and their metadata into the code from a pickled dataframe:\n",
    "data_path= \"./iran_telegraph_data/app_data\"\n",
    "text_df= pd.read_excel(f'{data_path}/telegraph_data.xlsx')\n",
    "\n",
    "text_df"
   ]
  },
  {
   "cell_type": "code",
   "execution_count": null,
   "id": "c65b72c3-f1de-44f0-90bb-1339430436ba",
   "metadata": {},
   "outputs": [],
   "source": [
    "# choosing the entity categories that the user wants to be included in the network graph and filtered texts:\n",
    "entity_tags= user_input.get_entities()\n",
    "entity_tags"
   ]
  },
  {
   "cell_type": "code",
   "execution_count": null,
   "id": "563fd72f-bb4b-4218-9771-263835e3b6a9",
   "metadata": {},
   "outputs": [],
   "source": [
    "# if the user wants to manually add entities not included in the entity categories:\n",
    "user_ents= ['telegraph']"
   ]
  },
  {
   "cell_type": "code",
   "execution_count": null,
   "id": "46659ecb-c722-4324-abbe-b45dbfca3844",
   "metadata": {
    "scrolled": true
   },
   "outputs": [],
   "source": [
    "# # if the user wants to create a dictionary from scratch:\n",
    "# user_dict= user_input.make_user_dict(text_df, entity_tags=entity_tags, user_ents=user_ents, dict_path=None, threshold=80)\n",
    "\n",
    "# # if the user already has a pickled dictionary saved locally and wants to expand it:\n",
    "# dict_path=\"user_dict.pickle\"\n",
    "# user_dict= user_input.make_user_dict(text_df, entity_tags=entity_tags, user_ents=user_ents, dict_path=dict_path, threshold=80)\n",
    "\n",
    "# #if the user already has a pickled dictionary saved locally and wants to load it into the code:\n",
    "# dict_path=f\"{data_path}/telegraph_user_dict.pickle\"\n",
    "# with open(dict_path, 'rb') as f:\n",
    "#     user_dict = pickle.load(f)\n",
    "\n",
    "user_dict"
   ]
  },
  {
   "cell_type": "code",
   "execution_count": null,
   "id": "080c5a56-7ee4-4d31-be5b-922966816336",
   "metadata": {},
   "outputs": [],
   "source": [
    "# visualizing the network graph:\n",
    "network.visualize_network (text_df, entity_tags=entity_tags, user_ents=user_ents, user_dict=user_dict, \n",
    "                           core=False, select_nodes=None, sources=None,\n",
    "                           title='network_visualization_2', \n",
    "                           figsize=(1000, 700), bgcolor='black', font_color='white')"
   ]
  },
  {
   "cell_type": "code",
   "execution_count": null,
   "id": "2b4a9fbe-cfbd-4312-b874-5ab98ffb1934",
   "metadata": {},
   "outputs": [],
   "source": [
    "# visualizing the community graph:\n",
    "network.detect_community (text_df, entity_tags=entity_tags, user_ents=user_ents, \n",
    "                          user_dict=user_dict, title='community_detection',\n",
    "                          figsize=(1000, 700), bgcolor='black', font_color='white')"
   ]
  },
  {
   "cell_type": "code",
   "execution_count": null,
   "id": "41ddc839-f30e-4ddf-ba55-071c3fe8a2df",
   "metadata": {},
   "outputs": [],
   "source": [
    "# # if the user only wants to see network relations among entities from certain texts: \n",
    "# sources= ['410_E_4_2', '410_E_4_3', '452_E_7', '480_E_9_1', '403_E_4_1']"
   ]
  },
  {
   "cell_type": "code",
   "execution_count": null,
   "id": "daa40ff8-ae8e-42e5-b3fa-7ccf2bc711db",
   "metadata": {
    "scrolled": true
   },
   "outputs": [],
   "source": [
    "# # if the user only wants to visualize network relations between certain nodes or filter texts that include certain nodes:\n",
    "# select_nodes=user_input.select_nodes(text_df, entity_tags=entity_tags, user_ents=user_ents, user_dict=user_dict)\n",
    "# select_nodes"
   ]
  },
  {
   "cell_type": "code",
   "execution_count": null,
   "id": "a8226728-ecc7-4862-b661-ebbfba5c7526",
   "metadata": {
    "scrolled": true
   },
   "outputs": [],
   "source": [
    "# selecting texts that contain certain nodes or edges:\n",
    "\n",
    "one_node= ['Naser-al-din shah']\n",
    "two_nodes= ['India', 'Iran']\n",
    "three_nodes= ['Georg Siemens', 'Germany', 'Morse']\n",
    "\n",
    "filtered_texts= network.filter_network_data (text_df, select_nodes=one_node, \n",
    "                                             entity_tags=entity_tags, \n",
    "                                             user_ents=user_ents, user_dict=user_dict, operator='OR')\n",
    "filtered_texts"
   ]
  },
  {
   "cell_type": "code",
   "execution_count": null,
   "id": "ae98487c-2783-4ff0-a190-c7ae664f338e",
   "metadata": {},
   "outputs": [],
   "source": [
    "# saving the filtered text to an excel file to share them with other people:\n",
    "filtered_texts.to_excel(f\"{data_path}/filtered_texts.xlsx\", index=False)"
   ]
  }
 ],
 "metadata": {
  "kernelspec": {
   "display_name": "Python 3 (ipykernel)",
   "language": "python",
   "name": "python3"
  },
  "language_info": {
   "codemirror_mode": {
    "name": "ipython",
    "version": 3
   },
   "file_extension": ".py",
   "mimetype": "text/x-python",
   "name": "python",
   "nbconvert_exporter": "python",
   "pygments_lexer": "ipython3",
   "version": "3.10.6"
  }
 },
 "nbformat": 4,
 "nbformat_minor": 5
}
