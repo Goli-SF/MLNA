{
 "cells": [
  {
   "cell_type": "code",
   "execution_count": 1,
   "id": "08432ace-dce5-4ad3-868e-740e90d3b5d5",
   "metadata": {},
   "outputs": [],
   "source": [
    "import pandas as pd\n",
    "import pickle"
   ]
  },
  {
   "cell_type": "code",
   "execution_count": 2,
   "id": "3c171cca-b92f-4597-81e3-1b7016ec4e9d",
   "metadata": {},
   "outputs": [],
   "source": [
    "# loading the not-yet-installed mlna package in the notebook:\n",
    "import sys\n",
    "import os\n",
    "\n",
    "# Get the absolute path of the \"root\" directory:\n",
    "root_dir = os.path.abspath(os.path.join(os.getcwd(), '..'))\n",
    "\n",
    "# Add the \"root\" directory to sys.path:\n",
    "if root_dir not in sys.path:\n",
    "    sys.path.insert(0, root_dir)\n",
    "\n",
    "# Now you can import the modules from the \"mlna\" package:\n",
    "\"\"\"\n",
    "the user should have installed the package on their computer. They don't need this installation method.\n",
    "\"\"\"\n",
    "from mlna import network, preproc, user_input "
   ]
  },
  {
   "cell_type": "markdown",
   "id": "deae8e95-1a14-454b-9d69-edf877c5dfb3",
   "metadata": {},
   "source": [
    "**Beginning of preparing material for the tests:**"
   ]
  },
  {
   "cell_type": "code",
   "execution_count": 3,
   "id": "6fcff2c3-0f41-449a-946b-3a85a5fc68aa",
   "metadata": {},
   "outputs": [
    {
     "data": {
      "text/html": [
       "<div>\n",
       "<style scoped>\n",
       "    .dataframe tbody tr th:only-of-type {\n",
       "        vertical-align: middle;\n",
       "    }\n",
       "\n",
       "    .dataframe tbody tr th {\n",
       "        vertical-align: top;\n",
       "    }\n",
       "\n",
       "    .dataframe thead th {\n",
       "        text-align: right;\n",
       "    }\n",
       "</style>\n",
       "<table border=\"1\" class=\"dataframe\">\n",
       "  <thead>\n",
       "    <tr style=\"text-align: right;\">\n",
       "      <th></th>\n",
       "      <th>text_id</th>\n",
       "      <th>title</th>\n",
       "      <th>full_text</th>\n",
       "    </tr>\n",
       "  </thead>\n",
       "  <tbody>\n",
       "    <tr>\n",
       "      <th>0</th>\n",
       "      <td>a_1</td>\n",
       "      <td>ناصرالدین شاه و سفر فرنگ</td>\n",
       "      <td>ناصر الدین شاه، پادشاه ایران، به همراه امین ال...</td>\n",
       "    </tr>\n",
       "    <tr>\n",
       "      <th>1</th>\n",
       "      <td>b_2</td>\n",
       "      <td>Qajar king and modernity</td>\n",
       "      <td>Naser-al-Din Shah was the king of Persia. He t...</td>\n",
       "    </tr>\n",
       "    <tr>\n",
       "      <th>2</th>\n",
       "      <td>c_3</td>\n",
       "      <td>Persien und neue Medien</td>\n",
       "      <td>Telegrafie wurde in the Qajar-Zeit im Iran vor...</td>\n",
       "    </tr>\n",
       "  </tbody>\n",
       "</table>\n",
       "</div>"
      ],
      "text/plain": [
       "  text_id                     title  \\\n",
       "0     a_1  ناصرالدین شاه و سفر فرنگ   \n",
       "1     b_2  Qajar king and modernity   \n",
       "2     c_3   Persien und neue Medien   \n",
       "\n",
       "                                           full_text  \n",
       "0  ناصر الدین شاه، پادشاه ایران، به همراه امین ال...  \n",
       "1  Naser-al-Din Shah was the king of Persia. He t...  \n",
       "2  Telegrafie wurde in the Qajar-Zeit im Iran vor...  "
      ]
     },
     "execution_count": 3,
     "metadata": {},
     "output_type": "execute_result"
    }
   ],
   "source": [
    "data_path= \"./iran_telegraph_data/app_data\"\n",
    "text_df= pd.read_pickle(f'{data_path}/test_df.pickle')\n",
    "text_df"
   ]
  },
  {
   "cell_type": "code",
   "execution_count": 4,
   "id": "6acea671-6e57-4c56-a32e-77fcd06e5aa0",
   "metadata": {},
   "outputs": [],
   "source": [
    "entity_tags= ['PERSON', 'GPE'] \n",
    "user_ents=['telegraph']"
   ]
  },
  {
   "cell_type": "code",
   "execution_count": 5,
   "id": "32dbfb02-865b-4bf3-8afd-d0deae6269e9",
   "metadata": {},
   "outputs": [
    {
     "name": "stdin",
     "output_type": "stream",
     "text": [
      "Do you wish to see all similar entities and define a constant spelling for them? Enter 'y' for YES and 'n' for NO:  n\n"
     ]
    },
    {
     "name": "stdout",
     "output_type": "stream",
     "text": [
      "\n"
     ]
    },
    {
     "name": "stdin",
     "output_type": "stream",
     "text": [
      "Enter the standard spelling of an entity:  done\n"
     ]
    },
    {
     "name": "stdout",
     "output_type": "stream",
     "text": [
      "\n",
      "Enter all vatiations of 'done' that exist among the entities. Enter 'done' to exit. Enter 'next' to set another standard spelling for another entity.\n",
      "\n"
     ]
    },
    {
     "name": "stdin",
     "output_type": "stream",
     "text": [
      "Enter a varying spelling of 'done':  done\n"
     ]
    },
    {
     "data": {
      "text/plain": [
       "{'Nasser al -Din Shah': 'Nasser-al-Din Shah',\n",
       " 'Naser-al-Din Shah': 'Nasser-al-Din Shah',\n",
       " 'Nasser Al Din': 'Nasser-al-Din Shah',\n",
       " 'Persia': 'Iran'}"
      ]
     },
     "execution_count": 5,
     "metadata": {},
     "output_type": "execute_result"
    }
   ],
   "source": [
    "# if the user wants to create a dictionary from scratch:\n",
    "user_dict= user_input.make_user_dict(text_df, entity_tags=entity_tags, user_ents=user_ents, dict_path='test_dict.pickle', threshold=80)\n",
    "user_dict"
   ]
  },
  {
   "cell_type": "code",
   "execution_count": 6,
   "id": "57309990-f2d5-4584-8fe0-393538451d46",
   "metadata": {
    "scrolled": true
   },
   "outputs": [
    {
     "data": {
      "text/plain": [
       "{'Mirza Ghafar Khan': 'Mirza Jafar Khan',\n",
       " 'Mirzā Jaʿfar Khan': 'Mirza Jafar Khan',\n",
       " 'Peterburg': 'St Petersburg',\n",
       " 'Telegraph': 'telegraph',\n",
       " 'TelegraphNo': 'telegraph',\n",
       " 'Telegraphs': 'telegraph',\n",
       " 'ʿAliqoli Khan': 'Ali Gholi Khan',\n",
       " 'Teheran': 'Tehran',\n",
       " 'Mushir al -Dawlah': 'Moshir-al-Dawlah',\n",
       " 'Moshir al -Dawlah': 'Moshir-al-Dawlah',\n",
       " 'networkThe Indo-European Telegraph': 'IETD',\n",
       " 'The Indo-European Telegraph Co.': 'IETC',\n",
       " 'the Indo-European Telegraph Company': 'IETC',\n",
       " 'The Indo-European Telegraph Department': 'IETD',\n",
       " 'Indo European Telegraph Department': 'IETD',\n",
       " 'Indo-European Telegraph Company': 'IETC',\n",
       " 'The Indo-European Telegraph Company': 'IETC',\n",
       " 'the Indo-European Telegraph Department': 'IETD',\n",
       " 'the Indo-European Government Telegraph Department': 'IETD',\n",
       " 'india': 'India',\n",
       " 'the Government of India': 'British Government',\n",
       " 'the British Government of India': 'British Government',\n",
       " 'the British Government': 'British Government',\n",
       " 'Bushire': 'Bushehr',\n",
       " 'Boushir': 'Bushehr',\n",
       " 'Reuters': 'Reuter',\n",
       " 'Hamadan': 'Hamedan',\n",
       " 'Yimin al -Dawlah': 'Amin-al-Dawla',\n",
       " 'Amin al -Dawlah': 'Amin-al-Dawla',\n",
       " 'Georg Siemens': 'George Siemens',\n",
       " 'Ferash Bashi': 'Farash Bashi',\n",
       " 'Nāṣer-al-Din Shah': 'Naser-al-Din Shah',\n",
       " 'Naṣer-al-Din Shah': 'Naser-al-Din Shah',\n",
       " 'Kermān': 'Kerman',\n",
       " 'Mošir-al-Dawla': 'Moshir-al-Dawla',\n",
       " 'Amin-al-Dawlah': 'Amin-al-Dawla',\n",
       " 'London E.': 'London',\n",
       " 'John Lieut': 'John Lt',\n",
       " 'Mirzā Āqā Khan Nuri': 'Agha Khan Nouri',\n",
       " 'Āqā Khan Nuri': 'Agha Khan Nouri',\n",
       " 'Dār al-Fonun': 'Dar-al-Fonun',\n",
       " 'Dar al -Fonun.': 'Dar-al-Fonun',\n",
       " 'Semnān': 'Semnan',\n",
       " 'Karzen': 'Kerzen',\n",
       " 'the Anglo-Russian Convention': 'Anglo-Russian Convention',\n",
       " 'Persia': 'Iran',\n",
       " 'British Government': 'Britain',\n",
       " 'Tabreez': 'Tabriz',\n",
       " 'telegraphBy': 'telegraph',\n",
       " 'Fadawi': 'Fadavi',\n",
       " 'Irann': 'Iran',\n",
       " 'Iranns': 'Iran',\n",
       " 'London C.': 'London',\n",
       " 'Mirza Aga Khan Nouri': 'Agha Khan Nouri',\n",
       " 'Moḵber-al-Dawla': 'Mokhber-al-Dawla',\n",
       " 'Eʿteżād-al-Salṭana': 'Etezad-al-Saltana',\n",
       " 'telegraphIt': 'telegraph',\n",
       " 'Aqdas Homayont': 'Shah',\n",
       " 'Aqdas Homayat': 'Shah',\n",
       " 'Makhbar al -Saltanah': 'Mokhber-al-Saltana',\n",
       " 'Makhbari al -Sultan': 'Mokhber-al-Saltana',\n",
       " 'Zanjān': 'Zanjan',\n",
       " 'the United Kingdom': 'Britain',\n",
       " 'The United Kingdom': 'Britain',\n",
       " 'Nawab': 'Navab',\n",
       " 'Nawab al': 'Navab',\n",
       " 'Nasser al': 'Naser-al-Din Shah',\n",
       " 'Nasser al -Din': 'Naser-al-Din Shah',\n",
       " 'Gholamreza Makhbar al -Dawlah': 'Mokhber-al-Dawlah',\n",
       " 'Aligholi Khan Makhbar al -Dawlah': 'Mokhber-al-Dawlah',\n",
       " 'Great Britain': 'Britain',\n",
       " 'Erevan': 'Yerevan',\n",
       " 'Bušehr': 'Bushehr',\n",
       " 'Navab al': 'Navab',\n",
       " 'Navab Navab': 'Navab',\n",
       " 'Naser-al-Din Shah -Din Shah': 'Naser-al-Din Shah',\n",
       " 'Naser-al-Din Shah -Din': 'Naser-al-Din Shah',\n",
       " 'Djulfa': 'Julfa',\n",
       " 'Etemad al -Saltanah': 'Etemad-al-Saltana'}"
      ]
     },
     "execution_count": 6,
     "metadata": {},
     "output_type": "execute_result"
    }
   ],
   "source": [
    "user_dict= pd.read_pickle(f'{data_path}/telegraph_user_dict.pickle')\n",
    "user_dict"
   ]
  },
  {
   "cell_type": "code",
   "execution_count": 7,
   "id": "aff3b8fe-8591-4001-ba87-17aaaf055415",
   "metadata": {},
   "outputs": [
    {
     "name": "stdout",
     "output_type": "stream",
     "text": [
      "{'text_id': 'a_1', 'sentences': ['Naser-al-Din Shah, the king of Iran, traveled with Amin al -Sultan.', 'He first traveled to Moscow and then to Paris.', 'He was introduced to the telegraph during the Paris trip.'], 'entities': [['Naser-al-Din Shah', 'Iran', 'Amin al', '-Sultan'], ['Moscow', 'Paris'], ['Paris', 'telegraph']]}\n",
      "\n",
      "{'text_id': 'b_2', 'sentences': ['Naser-al-Din Shah was the king of Iran.', 'He travelled to Paris from Tehran.', 'He visited Adolphe Thiers on his trip.'], 'entities': [['Naser-al-Din Shah', 'Iran'], ['Paris', 'Tehran'], ['Adolphe Thiers']]}\n",
      "\n",
      "{'text_id': 'c_3', 'sentences': ['telegraphy was presented in the Qajar period in Iran.', \"The Iran king in Tehran, Nasser Al Din, learned with the modern media during his trip to Paris, in Amin-Al-Saltana's accompaniment.\"], 'entities': [['Qajar', 'Iran'], ['Iran', 'Tehran', 'Nasser Al Din', 'Paris', 'Amin-Al-Saltana']]}\n",
      "\n"
     ]
    }
   ],
   "source": [
    "for i, row in text_df.iterrows():\n",
    "    text= text_df.loc[i, \"full_text\"]\n",
    "    text_id= text_df.loc[i, \"text_id\"]\n",
    "    entities= preproc.extract_entities (text, text_id, entity_tags=entity_tags, user_ents=user_ents, user_dict=user_dict)\n",
    "    print (entities)\n",
    "    print()"
   ]
  },
  {
   "cell_type": "code",
   "execution_count": 8,
   "id": "8095f017-e669-415e-b4c2-9673beda6d67",
   "metadata": {},
   "outputs": [
    {
     "data": {
      "text/html": [
       "<div>\n",
       "<style scoped>\n",
       "    .dataframe tbody tr th:only-of-type {\n",
       "        vertical-align: middle;\n",
       "    }\n",
       "\n",
       "    .dataframe tbody tr th {\n",
       "        vertical-align: top;\n",
       "    }\n",
       "\n",
       "    .dataframe thead th {\n",
       "        text-align: right;\n",
       "    }\n",
       "</style>\n",
       "<table border=\"1\" class=\"dataframe\">\n",
       "  <thead>\n",
       "    <tr style=\"text-align: right;\">\n",
       "      <th></th>\n",
       "      <th>text_id</th>\n",
       "      <th>source</th>\n",
       "      <th>target</th>\n",
       "      <th>weight</th>\n",
       "    </tr>\n",
       "  </thead>\n",
       "  <tbody>\n",
       "    <tr>\n",
       "      <th>0</th>\n",
       "      <td>a_1</td>\n",
       "      <td>Naser-al-Din Shah</td>\n",
       "      <td>Iran</td>\n",
       "      <td>2</td>\n",
       "    </tr>\n",
       "    <tr>\n",
       "      <th>1</th>\n",
       "      <td>a_1</td>\n",
       "      <td>Naser-al-Din Shah</td>\n",
       "      <td>Amin al</td>\n",
       "      <td>1</td>\n",
       "    </tr>\n",
       "    <tr>\n",
       "      <th>2</th>\n",
       "      <td>a_1</td>\n",
       "      <td>Naser-al-Din Shah</td>\n",
       "      <td>-Sultan</td>\n",
       "      <td>1</td>\n",
       "    </tr>\n",
       "    <tr>\n",
       "      <th>3</th>\n",
       "      <td>a_1</td>\n",
       "      <td>Moscow</td>\n",
       "      <td>Paris</td>\n",
       "      <td>1</td>\n",
       "    </tr>\n",
       "    <tr>\n",
       "      <th>4</th>\n",
       "      <td>a_1</td>\n",
       "      <td>Paris</td>\n",
       "      <td>telegraph</td>\n",
       "      <td>1</td>\n",
       "    </tr>\n",
       "    <tr>\n",
       "      <th>5</th>\n",
       "      <td>b_2</td>\n",
       "      <td>Naser-al-Din Shah</td>\n",
       "      <td>Iran</td>\n",
       "      <td>2</td>\n",
       "    </tr>\n",
       "    <tr>\n",
       "      <th>6</th>\n",
       "      <td>b_2</td>\n",
       "      <td>Paris</td>\n",
       "      <td>Tehran</td>\n",
       "      <td>1</td>\n",
       "    </tr>\n",
       "    <tr>\n",
       "      <th>7</th>\n",
       "      <td>c_3</td>\n",
       "      <td>Qajar</td>\n",
       "      <td>Iran</td>\n",
       "      <td>1</td>\n",
       "    </tr>\n",
       "    <tr>\n",
       "      <th>8</th>\n",
       "      <td>c_3</td>\n",
       "      <td>Iran</td>\n",
       "      <td>Tehran</td>\n",
       "      <td>1</td>\n",
       "    </tr>\n",
       "    <tr>\n",
       "      <th>9</th>\n",
       "      <td>c_3</td>\n",
       "      <td>Iran</td>\n",
       "      <td>Nasser Al Din</td>\n",
       "      <td>1</td>\n",
       "    </tr>\n",
       "    <tr>\n",
       "      <th>10</th>\n",
       "      <td>c_3</td>\n",
       "      <td>Iran</td>\n",
       "      <td>Paris</td>\n",
       "      <td>1</td>\n",
       "    </tr>\n",
       "    <tr>\n",
       "      <th>11</th>\n",
       "      <td>c_3</td>\n",
       "      <td>Iran</td>\n",
       "      <td>Amin-Al-Saltana</td>\n",
       "      <td>1</td>\n",
       "    </tr>\n",
       "  </tbody>\n",
       "</table>\n",
       "</div>"
      ],
      "text/plain": [
       "   text_id             source           target  weight\n",
       "0      a_1  Naser-al-Din Shah             Iran       2\n",
       "1      a_1  Naser-al-Din Shah          Amin al       1\n",
       "2      a_1  Naser-al-Din Shah          -Sultan       1\n",
       "3      a_1             Moscow            Paris       1\n",
       "4      a_1              Paris        telegraph       1\n",
       "5      b_2  Naser-al-Din Shah             Iran       2\n",
       "6      b_2              Paris           Tehran       1\n",
       "7      c_3              Qajar             Iran       1\n",
       "8      c_3               Iran           Tehran       1\n",
       "9      c_3               Iran    Nasser Al Din       1\n",
       "10     c_3               Iran            Paris       1\n",
       "11     c_3               Iran  Amin-Al-Saltana       1"
      ]
     },
     "execution_count": 8,
     "metadata": {},
     "output_type": "execute_result"
    }
   ],
   "source": [
    "network_df= network.get_network_data (text_df, entity_tags, user_ents=user_ents, user_dict=user_dict)\n",
    "network_df"
   ]
  },
  {
   "cell_type": "code",
   "execution_count": 9,
   "id": "9bb8a485-7e72-46c5-9e58-7358a5fcface",
   "metadata": {},
   "outputs": [
    {
     "data": {
      "text/plain": [
       "['naser-al-din shah',\n",
       " 'naser-al-din shah',\n",
       " 'naser-al-din shah',\n",
       " 'moscow',\n",
       " 'paris',\n",
       " 'naser-al-din shah',\n",
       " 'paris',\n",
       " 'qajar',\n",
       " 'iran',\n",
       " 'iran',\n",
       " 'iran',\n",
       " 'iran']"
      ]
     },
     "execution_count": 9,
     "metadata": {},
     "output_type": "execute_result"
    }
   ],
   "source": [
    "list(map(lambda x: x.lower(), network_df['source']))"
   ]
  },
  {
   "cell_type": "code",
   "execution_count": 10,
   "id": "fe31a7e6-f111-4cd4-904c-000328c29c58",
   "metadata": {},
   "outputs": [
    {
     "data": {
      "text/plain": [
       "['iran',\n",
       " 'amin al',\n",
       " '-sultan',\n",
       " 'paris',\n",
       " 'telegraph',\n",
       " 'iran',\n",
       " 'tehran',\n",
       " 'iran',\n",
       " 'tehran',\n",
       " 'nasser al din',\n",
       " 'paris',\n",
       " 'amin-al-saltana']"
      ]
     },
     "execution_count": 10,
     "metadata": {},
     "output_type": "execute_result"
    }
   ],
   "source": [
    "list(map(lambda x: x.lower(), network_df['target']))"
   ]
  },
  {
   "cell_type": "code",
   "execution_count": 11,
   "id": "503deb43-345c-4cfb-9390-e30cd7681e69",
   "metadata": {},
   "outputs": [
    {
     "name": "stdout",
     "output_type": "stream",
     "text": [
      "Enter the names of as many nodes as you wish. Press 'ENTER' to type the next name. Enter 'done' to exit.\n",
      "\n"
     ]
    },
    {
     "name": "stdin",
     "output_type": "stream",
     "text": [
      "Enter the name of a node:  done\n"
     ]
    },
    {
     "data": {
      "text/plain": [
       "[]"
      ]
     },
     "execution_count": 11,
     "metadata": {},
     "output_type": "execute_result"
    }
   ],
   "source": [
    "select_nodes= user_input.select_nodes (text_df, entity_tags, user_ents=user_ents, user_dict=user_dict)\n",
    "select_nodes"
   ]
  },
  {
   "cell_type": "code",
   "execution_count": null,
   "id": "f91d5db4-bd13-4c35-8663-7a95b064c0d2",
   "metadata": {},
   "outputs": [],
   "source": []
  },
  {
   "cell_type": "code",
   "execution_count": null,
   "id": "2ae96b7a-05ec-4f96-a1e0-ea3784baf4be",
   "metadata": {},
   "outputs": [],
   "source": []
  },
  {
   "cell_type": "code",
   "execution_count": null,
   "id": "9eafd5f2-cd59-4582-a625-6374bf771b70",
   "metadata": {},
   "outputs": [],
   "source": []
  },
  {
   "cell_type": "code",
   "execution_count": null,
   "id": "f47b35e4-3525-4285-acfa-bc3454103b37",
   "metadata": {},
   "outputs": [],
   "source": []
  },
  {
   "cell_type": "code",
   "execution_count": null,
   "id": "1db05ce6-3e31-46c7-8db4-3ea76ca9b313",
   "metadata": {},
   "outputs": [],
   "source": []
  },
  {
   "cell_type": "code",
   "execution_count": null,
   "id": "0d78e3ae-0738-4ddf-9dad-202bddaa7862",
   "metadata": {},
   "outputs": [],
   "source": []
  },
  {
   "cell_type": "markdown",
   "id": "9b6d3b8f-2b38-4c34-bb8e-f2f94b7fd3e0",
   "metadata": {},
   "source": [
    "**End of preparing material for the tests. Delete test_df.pickle from here when tests finished. It should only exist in the tests directory.**"
   ]
  },
  {
   "cell_type": "code",
   "execution_count": 12,
   "id": "8d045fd9-57a7-413e-8422-8412b6c29549",
   "metadata": {
    "scrolled": true
   },
   "outputs": [
    {
     "data": {
      "text/html": [
       "<div>\n",
       "<style scoped>\n",
       "    .dataframe tbody tr th:only-of-type {\n",
       "        vertical-align: middle;\n",
       "    }\n",
       "\n",
       "    .dataframe tbody tr th {\n",
       "        vertical-align: top;\n",
       "    }\n",
       "\n",
       "    .dataframe thead th {\n",
       "        text-align: right;\n",
       "    }\n",
       "</style>\n",
       "<table border=\"1\" class=\"dataframe\">\n",
       "  <thead>\n",
       "    <tr style=\"text-align: right;\">\n",
       "      <th></th>\n",
       "      <th>text_id</th>\n",
       "      <th>file_name</th>\n",
       "      <th>title</th>\n",
       "      <th>source</th>\n",
       "      <th>year</th>\n",
       "      <th>full_text</th>\n",
       "    </tr>\n",
       "  </thead>\n",
       "  <tbody>\n",
       "    <tr>\n",
       "      <th>0</th>\n",
       "      <td>t_m_1277</td>\n",
       "      <td>1277_تاریخ منتظم ناصری.txt</td>\n",
       "      <td>اعتماداالسلطنه</td>\n",
       "      <td>اعتماداالسلطنه. تاریخ منتظم ناصری. جلد ۳. ص. 1833</td>\n",
       "      <td>1277</td>\n",
       "      <td>محمد ابراهیم خان سرتیپ اول افواج خمسه به لقب م...</td>\n",
       "    </tr>\n",
       "    <tr>\n",
       "      <th>1</th>\n",
       "      <td>g_q_1278</td>\n",
       "      <td>1278_گزارش وزیر امور خارجه درباره قرارداد تلگر...</td>\n",
       "      <td>گزارش وزیر امور خارجه درباره قرارداد تلگراف</td>\n",
       "      <td>یکصد سند تاریخی دوران قاجاریه. ابراهیم صفایی. ...</td>\n",
       "      <td>1278</td>\n",
       "      <td>قربان خاک پای جواهر آسای اقدس همایونت شوم. دست...</td>\n",
       "    </tr>\n",
       "    <tr>\n",
       "      <th>2</th>\n",
       "      <td>g_g_1283</td>\n",
       "      <td>1283_گزارش وزیر امور خارجه درباره گسترش تلگراف...</td>\n",
       "      <td>گزارش وزیر امور خارجه درباره گسترش تلگراف</td>\n",
       "      <td>یکصد سند تاریخی دوران قاجاریه. ابراهیم صفایی. ...</td>\n",
       "      <td>1283</td>\n",
       "      <td>قربان خاک پای جواهرآسای اقدس همایونت شوم. جواب...</td>\n",
       "    </tr>\n",
       "    <tr>\n",
       "      <th>3</th>\n",
       "      <td>n_s_1283</td>\n",
       "      <td>1283_نامه ساعد الملک درباره خطوط تلگرافی ایران...</td>\n",
       "      <td>نامه ساعد الملک درباره خطوط تلگرافی ایران</td>\n",
       "      <td>یکصد سند تاریخی دوران قاجاریه. ابراهیم صفایی. ...</td>\n",
       "      <td>1283</td>\n",
       "      <td>خدایگانا دربال گراندوک قسطنطنین به جناب مسیو ت...</td>\n",
       "    </tr>\n",
       "    <tr>\n",
       "      <th>4</th>\n",
       "      <td>p_m_1303</td>\n",
       "      <td>1303_پروگرام مشی کابینه آقای سردار سپه.txt</td>\n",
       "      <td>پروگرام مشی کابینه آقای سردار سپه</td>\n",
       "      <td>https://fa.wikisource.org/wiki/%D9%BE%D8%B1%D9...</td>\n",
       "      <td>1303</td>\n",
       "      <td>پروگرام مشی کابینهٔ آقای سردار سپهمصوب ۲۶ حمل ...</td>\n",
       "    </tr>\n",
       "    <tr>\n",
       "      <th>5</th>\n",
       "      <td>s_z_1314</td>\n",
       "      <td>1314_ساعت ظهر در ولایات.txt</td>\n",
       "      <td>ساعت ظهر در ولایات</td>\n",
       "      <td>https://fa.wikisource.org/wiki/%D8%A7%D8%B7%D9...</td>\n",
       "      <td>1314</td>\n",
       "      <td>ساعت ظهر در ولایاتطبق تصویب هیئت محترم وزراء ع...</td>\n",
       "    </tr>\n",
       "    <tr>\n",
       "      <th>6</th>\n",
       "      <td>h_a_2010</td>\n",
       "      <td>history_of_the_atlantic_cable.txt</td>\n",
       "      <td>History of the Atlantic Cable &amp; Undersea Commu...</td>\n",
       "      <td>https://atlantic-cable.com/CableCos/Indo-Eur/i...</td>\n",
       "      <td>2010</td>\n",
       "      <td>The Indo-European Telegraph Company – was foun...</td>\n",
       "    </tr>\n",
       "    <tr>\n",
       "      <th>7</th>\n",
       "      <td>410_E_4_2</td>\n",
       "      <td>IOR_L_PWD_7_410_E_4_2.txt</td>\n",
       "      <td>concession of May 24</td>\n",
       "      <td>Archive of the British Library</td>\n",
       "      <td>1868</td>\n",
       "      <td>Cher Monsieur Champagne,J'ai le plaisir de vou...</td>\n",
       "    </tr>\n",
       "    <tr>\n",
       "      <th>8</th>\n",
       "      <td>410_E_4_3</td>\n",
       "      <td>IOR_L_PWD_7_410_E_4_3.txt</td>\n",
       "      <td>letters from Bateman and Andrews</td>\n",
       "      <td>Archive of the British Library</td>\n",
       "      <td>1876</td>\n",
       "      <td>The Indo-European Telegraph Co.(LIMITED.)Teleg...</td>\n",
       "    </tr>\n",
       "    <tr>\n",
       "      <th>9</th>\n",
       "      <td>452_E_7</td>\n",
       "      <td>IOR_L_PWD_7_452_E_7_16.txt</td>\n",
       "      <td>letter of O. St. John Lieut. R.E. to Colonel G...</td>\n",
       "      <td>Archive of the British Library</td>\n",
       "      <td>1867</td>\n",
       "      <td>Tel. Department No. 12 of 1867To:Lieut. Colone...</td>\n",
       "    </tr>\n",
       "    <tr>\n",
       "      <th>10</th>\n",
       "      <td>480_E_9_1</td>\n",
       "      <td>IOR_L_PWD_7_480_E_9_1.txt</td>\n",
       "      <td>letters from Smith and Godley</td>\n",
       "      <td>Archive of the British Library</td>\n",
       "      <td>1887</td>\n",
       "      <td>India Office,Whitehall, S. W.March 1887Sir,I a...</td>\n",
       "    </tr>\n",
       "    <tr>\n",
       "      <th>11</th>\n",
       "      <td>403_E_4_1</td>\n",
       "      <td>IOR_L_PWD_7_403_E_4_1.txt</td>\n",
       "      <td>letter from Smith</td>\n",
       "      <td>Archive of the British Library</td>\n",
       "      <td>1869</td>\n",
       "      <td>A. 33. of 1869From Major R.M. SmithDirector Pe...</td>\n",
       "    </tr>\n",
       "    <tr>\n",
       "      <th>12</th>\n",
       "      <td>f_t_2009</td>\n",
       "      <td>iranica_first_telegraph_lines_in_persia.txt</td>\n",
       "      <td>first telegraph lines in persia</td>\n",
       "      <td>https://iranicaonline.org/articles/telegraph-i...</td>\n",
       "      <td>2009</td>\n",
       "      <td>TELEGRAPHi. FIRST TELEGRAPH LINES IN PERSIAEle...</td>\n",
       "    </tr>\n",
       "    <tr>\n",
       "      <th>13</th>\n",
       "      <td>i_e_c_2012</td>\n",
       "      <td>iranica_indo_european_telegraph_company.txt</td>\n",
       "      <td>indo-european telegraph company</td>\n",
       "      <td>https://iranicaonline.org/articles/indo-europe...</td>\n",
       "      <td>2012</td>\n",
       "      <td>INDO-EUROPEAN TELEGRAPH COMPANY (IETC), a tele...</td>\n",
       "    </tr>\n",
       "    <tr>\n",
       "      <th>14</th>\n",
       "      <td>i_e_d_2012</td>\n",
       "      <td>iranica_indo_european_telegraph_department.txt</td>\n",
       "      <td>indo-european telegraph department</td>\n",
       "      <td>https://www.iranicaonline.org/articles/indo-eu...</td>\n",
       "      <td>2012</td>\n",
       "      <td>INDO-EUROPEAN TELEGRAPH DEPARTMENT (IETD), a b...</td>\n",
       "    </tr>\n",
       "    <tr>\n",
       "      <th>15</th>\n",
       "      <td>t_i_1378</td>\n",
       "      <td>تلگراف در ایران.txt</td>\n",
       "      <td>تلگراف در ایران</td>\n",
       "      <td>اسناد پست و تلگراف و تلفن در دوره رضاشاه - مرض...</td>\n",
       "      <td>1378</td>\n",
       "      <td>تلگراف در ایران از سال 1273 ق. مورد توجه واقع ...</td>\n",
       "    </tr>\n",
       "    <tr>\n",
       "      <th>16</th>\n",
       "      <td>t_n_i_nan</td>\n",
       "      <td>تلگراف_نخستین دستگاه مخابراتی در ایران.txt</td>\n",
       "      <td>تلگراف_نخستین دستگاه مخابراتی در ایران</td>\n",
       "      <td>https://rch.ac.ir/article/Details?id=10431</td>\n",
       "      <td>0</td>\n",
       "      <td>تلگراف  (در ایران ) ، نخستین  دستگاه  مخابراتی...</td>\n",
       "    </tr>\n",
       "  </tbody>\n",
       "</table>\n",
       "</div>"
      ],
      "text/plain": [
       "       text_id                                          file_name  \\\n",
       "0     t_m_1277                         1277_تاریخ منتظم ناصری.txt   \n",
       "1     g_q_1278  1278_گزارش وزیر امور خارجه درباره قرارداد تلگر...   \n",
       "2     g_g_1283  1283_گزارش وزیر امور خارجه درباره گسترش تلگراف...   \n",
       "3     n_s_1283  1283_نامه ساعد الملک درباره خطوط تلگرافی ایران...   \n",
       "4     p_m_1303         1303_پروگرام مشی کابینه آقای سردار سپه.txt   \n",
       "5     s_z_1314                        1314_ساعت ظهر در ولایات.txt   \n",
       "6     h_a_2010                  history_of_the_atlantic_cable.txt   \n",
       "7    410_E_4_2                          IOR_L_PWD_7_410_E_4_2.txt   \n",
       "8    410_E_4_3                          IOR_L_PWD_7_410_E_4_3.txt   \n",
       "9      452_E_7                         IOR_L_PWD_7_452_E_7_16.txt   \n",
       "10   480_E_9_1                          IOR_L_PWD_7_480_E_9_1.txt   \n",
       "11   403_E_4_1                          IOR_L_PWD_7_403_E_4_1.txt   \n",
       "12    f_t_2009        iranica_first_telegraph_lines_in_persia.txt   \n",
       "13  i_e_c_2012        iranica_indo_european_telegraph_company.txt   \n",
       "14  i_e_d_2012     iranica_indo_european_telegraph_department.txt   \n",
       "15    t_i_1378                                تلگراف در ایران.txt   \n",
       "16   t_n_i_nan         تلگراف_نخستین دستگاه مخابراتی در ایران.txt   \n",
       "\n",
       "                                                title  \\\n",
       "0                                      اعتماداالسلطنه   \n",
       "1         گزارش وزیر امور خارجه درباره قرارداد تلگراف   \n",
       "2           گزارش وزیر امور خارجه درباره گسترش تلگراف   \n",
       "3           نامه ساعد الملک درباره خطوط تلگرافی ایران   \n",
       "4                   پروگرام مشی کابینه آقای سردار سپه   \n",
       "5                                  ساعت ظهر در ولایات   \n",
       "6   History of the Atlantic Cable & Undersea Commu...   \n",
       "7                                concession of May 24   \n",
       "8                    letters from Bateman and Andrews   \n",
       "9   letter of O. St. John Lieut. R.E. to Colonel G...   \n",
       "10                      letters from Smith and Godley   \n",
       "11                                  letter from Smith   \n",
       "12                    first telegraph lines in persia   \n",
       "13                    indo-european telegraph company   \n",
       "14                 indo-european telegraph department   \n",
       "15                                    تلگراف در ایران   \n",
       "16             تلگراف_نخستین دستگاه مخابراتی در ایران   \n",
       "\n",
       "                                               source  year  \\\n",
       "0   اعتماداالسلطنه. تاریخ منتظم ناصری. جلد ۳. ص. 1833  1277   \n",
       "1   یکصد سند تاریخی دوران قاجاریه. ابراهیم صفایی. ...  1278   \n",
       "2   یکصد سند تاریخی دوران قاجاریه. ابراهیم صفایی. ...  1283   \n",
       "3   یکصد سند تاریخی دوران قاجاریه. ابراهیم صفایی. ...  1283   \n",
       "4   https://fa.wikisource.org/wiki/%D9%BE%D8%B1%D9...  1303   \n",
       "5   https://fa.wikisource.org/wiki/%D8%A7%D8%B7%D9...  1314   \n",
       "6   https://atlantic-cable.com/CableCos/Indo-Eur/i...  2010   \n",
       "7                      Archive of the British Library  1868   \n",
       "8                      Archive of the British Library  1876   \n",
       "9                      Archive of the British Library  1867   \n",
       "10                     Archive of the British Library  1887   \n",
       "11                     Archive of the British Library  1869   \n",
       "12  https://iranicaonline.org/articles/telegraph-i...  2009   \n",
       "13  https://iranicaonline.org/articles/indo-europe...  2012   \n",
       "14  https://www.iranicaonline.org/articles/indo-eu...  2012   \n",
       "15  اسناد پست و تلگراف و تلفن در دوره رضاشاه - مرض...  1378   \n",
       "16         https://rch.ac.ir/article/Details?id=10431     0   \n",
       "\n",
       "                                            full_text  \n",
       "0   محمد ابراهیم خان سرتیپ اول افواج خمسه به لقب م...  \n",
       "1   قربان خاک پای جواهر آسای اقدس همایونت شوم. دست...  \n",
       "2   قربان خاک پای جواهرآسای اقدس همایونت شوم. جواب...  \n",
       "3   خدایگانا دربال گراندوک قسطنطنین به جناب مسیو ت...  \n",
       "4   پروگرام مشی کابینهٔ آقای سردار سپهمصوب ۲۶ حمل ...  \n",
       "5   ساعت ظهر در ولایاتطبق تصویب هیئت محترم وزراء ع...  \n",
       "6   The Indo-European Telegraph Company – was foun...  \n",
       "7   Cher Monsieur Champagne,J'ai le plaisir de vou...  \n",
       "8   The Indo-European Telegraph Co.(LIMITED.)Teleg...  \n",
       "9   Tel. Department No. 12 of 1867To:Lieut. Colone...  \n",
       "10  India Office,Whitehall, S. W.March 1887Sir,I a...  \n",
       "11  A. 33. of 1869From Major R.M. SmithDirector Pe...  \n",
       "12  TELEGRAPHi. FIRST TELEGRAPH LINES IN PERSIAEle...  \n",
       "13  INDO-EUROPEAN TELEGRAPH COMPANY (IETC), a tele...  \n",
       "14  INDO-EUROPEAN TELEGRAPH DEPARTMENT (IETD), a b...  \n",
       "15  تلگراف در ایران از سال 1273 ق. مورد توجه واقع ...  \n",
       "16  تلگراف  (در ایران ) ، نخستین  دستگاه  مخابراتی...  "
      ]
     },
     "execution_count": 12,
     "metadata": {},
     "output_type": "execute_result"
    }
   ],
   "source": [
    "# loading the texts and their metadata into the code from a pickled dataframe:\n",
    "data_path= \"./iran_telegraph_data/app_data\"\n",
    "text_df= pd.read_excel(f'{data_path}/telegraph_data.xlsx')\n",
    "\n",
    "text_df"
   ]
  },
  {
   "cell_type": "code",
   "execution_count": 13,
   "id": "c65b72c3-f1de-44f0-90bb-1339430436ba",
   "metadata": {},
   "outputs": [
    {
     "name": "stdout",
     "output_type": "stream",
     "text": [
      "Enter the entities you are looking for in the texts. Press 'ENTER' to type the next entity. Enter 'done' when finished.\n",
      "\n",
      "PERSON : People, including fictional.\n",
      "NORP : Nationalities or religious or political groups.\n",
      "FAC : Buildings, airports, highways, bridges, etc.\n",
      "ORG : Companies, agencies, institutions, etc.\n",
      "GPE : Countries, cities, states.\n",
      "LOC : Non-GPE locations, mountain ranges, bodies of water.\n",
      "PRODUCT : Objects, vehicles, foods, etc. (Not services.)\n",
      "EVENT : Named hurricanes, battles, wars, sports events, etc.\n",
      "WORK_OF_ART : Titles of books, songs, etc.\n",
      "LAW : Named documents made into laws.\n",
      "LANGUAGE : Any named language.\n",
      "DATE : Absolute or relative dates or periods.\n",
      "MONEY : Monetary values, including unit.\n",
      "\n"
     ]
    },
    {
     "name": "stdin",
     "output_type": "stream",
     "text": [
      "Enter your choice:  PERSON\n",
      "Enter your choice:  done\n"
     ]
    },
    {
     "data": {
      "text/plain": [
       "['PERSON']"
      ]
     },
     "execution_count": 13,
     "metadata": {},
     "output_type": "execute_result"
    }
   ],
   "source": [
    "# choosing the entity categories that we would like to be included in the network graph and filtered texts:\n",
    "entity_tags= user_input.get_entities()\n",
    "entity_tags"
   ]
  },
  {
   "cell_type": "code",
   "execution_count": 14,
   "id": "563fd72f-bb4b-4218-9771-263835e3b6a9",
   "metadata": {},
   "outputs": [],
   "source": [
    "# if the user wants to manually add entities not included in the entity tag categories:\n",
    "user_ents=['telegraph', 'Julfa']"
   ]
  },
  {
   "cell_type": "code",
   "execution_count": 15,
   "id": "46659ecb-c722-4324-abbe-b45dbfca3844",
   "metadata": {
    "scrolled": true
   },
   "outputs": [
    {
     "data": {
      "text/plain": [
       "{'Mirza Ghafar Khan': 'Mirza Jafar Khan',\n",
       " 'Mirzā Jaʿfar Khan': 'Mirza Jafar Khan',\n",
       " 'Peterburg': 'St Petersburg',\n",
       " 'Telegraph': 'telegraph',\n",
       " 'TelegraphNo': 'telegraph',\n",
       " 'Telegraphs': 'telegraph',\n",
       " 'ʿAliqoli Khan': 'Ali Gholi Khan',\n",
       " 'Teheran': 'Tehran',\n",
       " 'Mushir al -Dawlah': 'Moshir-al-Dawlah',\n",
       " 'Moshir al -Dawlah': 'Moshir-al-Dawlah',\n",
       " 'networkThe Indo-European Telegraph': 'IETD',\n",
       " 'The Indo-European Telegraph Co.': 'IETC',\n",
       " 'the Indo-European Telegraph Company': 'IETC',\n",
       " 'The Indo-European Telegraph Department': 'IETD',\n",
       " 'Indo European Telegraph Department': 'IETD',\n",
       " 'Indo-European Telegraph Company': 'IETC',\n",
       " 'The Indo-European Telegraph Company': 'IETC',\n",
       " 'the Indo-European Telegraph Department': 'IETD',\n",
       " 'the Indo-European Government Telegraph Department': 'IETD',\n",
       " 'india': 'India',\n",
       " 'the Government of India': 'British Government',\n",
       " 'the British Government of India': 'British Government',\n",
       " 'the British Government': 'British Government',\n",
       " 'Bushire': 'Bushehr',\n",
       " 'Boushir': 'Bushehr',\n",
       " 'Reuters': 'Reuter',\n",
       " 'Hamadan': 'Hamedan',\n",
       " 'Yimin al -Dawlah': 'Amin-al-Dawla',\n",
       " 'Amin al -Dawlah': 'Amin-al-Dawla',\n",
       " 'Georg Siemens': 'George Siemens',\n",
       " 'Ferash Bashi': 'Farash Bashi',\n",
       " 'Nāṣer-al-Din Shah': 'Naser-al-Din Shah',\n",
       " 'Naṣer-al-Din Shah': 'Naser-al-Din Shah',\n",
       " 'Kermān': 'Kerman',\n",
       " 'Mošir-al-Dawla': 'Moshir-al-Dawla',\n",
       " 'Amin-al-Dawlah': 'Amin-al-Dawla',\n",
       " 'London E.': 'London',\n",
       " 'John Lieut': 'John Lt',\n",
       " 'Mirzā Āqā Khan Nuri': 'Agha Khan Nouri',\n",
       " 'Āqā Khan Nuri': 'Agha Khan Nouri',\n",
       " 'Dār al-Fonun': 'Dar-al-Fonun',\n",
       " 'Dar al -Fonun.': 'Dar-al-Fonun',\n",
       " 'Semnān': 'Semnan',\n",
       " 'Karzen': 'Kerzen',\n",
       " 'the Anglo-Russian Convention': 'Anglo-Russian Convention',\n",
       " 'Persia': 'Iran',\n",
       " 'British Government': 'Britain',\n",
       " 'Tabreez': 'Tabriz',\n",
       " 'telegraphBy': 'telegraph',\n",
       " 'Fadawi': 'Fadavi',\n",
       " 'Irann': 'Iran',\n",
       " 'Iranns': 'Iran',\n",
       " 'London C.': 'London',\n",
       " 'Mirza Aga Khan Nouri': 'Agha Khan Nouri',\n",
       " 'Moḵber-al-Dawla': 'Mokhber-al-Dawla',\n",
       " 'Eʿteżād-al-Salṭana': 'Etezad-al-Saltana',\n",
       " 'telegraphIt': 'telegraph',\n",
       " 'Aqdas Homayont': 'Shah',\n",
       " 'Aqdas Homayat': 'Shah',\n",
       " 'Makhbar al -Saltanah': 'Mokhber-al-Saltana',\n",
       " 'Makhbari al -Sultan': 'Mokhber-al-Saltana',\n",
       " 'Zanjān': 'Zanjan',\n",
       " 'the United Kingdom': 'Britain',\n",
       " 'The United Kingdom': 'Britain',\n",
       " 'Nawab': 'Navab',\n",
       " 'Nawab al': 'Navab',\n",
       " 'Nasser al': 'Naser-al-Din Shah',\n",
       " 'Nasser al -Din': 'Naser-al-Din Shah',\n",
       " 'Gholamreza Makhbar al -Dawlah': 'Mokhber-al-Dawlah',\n",
       " 'Aligholi Khan Makhbar al -Dawlah': 'Mokhber-al-Dawlah',\n",
       " 'Great Britain': 'Britain',\n",
       " 'Erevan': 'Yerevan',\n",
       " 'Bušehr': 'Bushehr',\n",
       " 'Navab al': 'Navab',\n",
       " 'Navab Navab': 'Navab',\n",
       " 'Naser-al-Din Shah -Din Shah': 'Naser-al-Din Shah',\n",
       " 'Naser-al-Din Shah -Din': 'Naser-al-Din Shah',\n",
       " 'Djulfa': 'Julfa',\n",
       " 'Etemad al -Saltanah': 'Etemad-al-Saltana'}"
      ]
     },
     "execution_count": 15,
     "metadata": {},
     "output_type": "execute_result"
    }
   ],
   "source": [
    "# if the user already has a dictionary saved locally:\n",
    "dict_path=f\"{data_path}/telegraph_user_dict.pickle\"\n",
    "with open(dict_path, 'rb') as f:\n",
    "    user_dict = pickle.load(f)\n",
    "\n",
    "# # if the user already has a dictionary saved locally and wants to expand it:\n",
    "# dict_path=f\"{data_path}telegraph_user_dict.pickle\"\n",
    "# user_dict= user_input.make_user_dict(text_df, entity_tags=entity_tags, user_ents=user_ents, dict_path=dict_path, threshold=70)\n",
    "\n",
    "# # if the user wants to create a dictionary from scratch:\n",
    "# user_dict= user_input.make_user_dict(text_df, entity_tags=entity_tags, user_ents=user_ents, dict_path=None, threshold=70)\n",
    "\n",
    "user_dict"
   ]
  },
  {
   "cell_type": "code",
   "execution_count": null,
   "id": "659a3cb4-b1bd-4055-8b6c-0199b94e8f0d",
   "metadata": {
    "scrolled": true
   },
   "outputs": [],
   "source": [
    "\"\"\"\n",
    "Manipulating the user_dict:\n",
    "\"\"\"\n",
    "# user_dict['Etemad al -Saltanah']= 'Etemad-al-Saltana'\n",
    "# pd.to_pickle(user_dict, f\"{data_path}/telegraph_user_dict.pickle\")\n",
    "\n",
    "# user_dict"
   ]
  },
  {
   "cell_type": "code",
   "execution_count": null,
   "id": "e0903ae4-d5f2-440c-a598-f7f02e0a4cf3",
   "metadata": {
    "scrolled": true
   },
   "outputs": [],
   "source": [
    "\"\"\"\n",
    "Checking if Julfa is in the entities:\n",
    "\"\"\"\n",
    "# text= text_df.loc[11, 'full_text']\n",
    "# text_id='403_E_4_1'\n",
    "# ent_dict=preproc.extract_entities (text, text_id, entity_tags=entity_tags, user_ents=user_ents, user_dict=user_dict)\n",
    "# dict_df= pd.DataFrame(ent_dict)\n",
    "# dict_df"
   ]
  },
  {
   "cell_type": "code",
   "execution_count": null,
   "id": "41ddc839-f30e-4ddf-ba55-071c3fe8a2df",
   "metadata": {},
   "outputs": [],
   "source": [
    "# # if the user only wishes to see network relations among entities from certain texts: \n",
    "# sources= ['410_E_4_2', '410_E_4_3', '452_E_7', '480_E_9_1', '403_E_4_1']"
   ]
  },
  {
   "cell_type": "code",
   "execution_count": null,
   "id": "080c5a56-7ee4-4d31-be5b-922966816336",
   "metadata": {},
   "outputs": [],
   "source": [
    "# visualizing the network graph:\n",
    "network.visualize_network (text_df, entity_tags=entity_tags, user_ents=user_ents, user_dict=user_dict, \n",
    "                           core=False, select_nodes=None, sources=None,\n",
    "                           title='network_visualization_2', \n",
    "                           figsize=(1000, 700), bgcolor='black', font_color='white')"
   ]
  },
  {
   "cell_type": "code",
   "execution_count": null,
   "id": "2b4a9fbe-cfbd-4312-b874-5ab98ffb1934",
   "metadata": {},
   "outputs": [],
   "source": [
    "# visualizing the community graph:\n",
    "network.detect_community (text_df, entity_tags=entity_tags, user_ents=user_ents, \n",
    "                          user_dict=user_dict, title='community_detection',\n",
    "                          figsize=(1000, 700), bgcolor='black', font_color='white')"
   ]
  },
  {
   "cell_type": "code",
   "execution_count": null,
   "id": "daa40ff8-ae8e-42e5-b3fa-7ccf2bc711db",
   "metadata": {
    "scrolled": true
   },
   "outputs": [],
   "source": [
    "# if the user only wants to visualize network relations between certain nodes or filter texts that include certain nodes:\n",
    "select_nodes=user_input.select_nodes(text_df, entity_tags=entity_tags, user_ents=user_ents, user_dict=user_dict)\n",
    "select_nodes"
   ]
  },
  {
   "cell_type": "code",
   "execution_count": null,
   "id": "a8226728-ecc7-4862-b661-ebbfba5c7526",
   "metadata": {
    "scrolled": true
   },
   "outputs": [],
   "source": [
    "# selecting texts that contain certain nodes od:\n",
    "filtered_texts= network.filter_network_data (text_df, select_nodes=['Naser-al-din shah'], \n",
    "                                             entity_tags=entity_tags, \n",
    "                                             user_ents=user_ents, user_dict=user_dict, operator='OR')\n",
    "filtered_texts"
   ]
  },
  {
   "cell_type": "code",
   "execution_count": null,
   "id": "ae98487c-2783-4ff0-a190-c7ae664f338e",
   "metadata": {},
   "outputs": [],
   "source": [
    "# saving the filtered text to an excel file to share them with other people:\n",
    "filtered_texts.to_excel(f\"{data_path}/filtered_texts.xlsx\", index=False)"
   ]
  }
 ],
 "metadata": {
  "kernelspec": {
   "display_name": "Python 3 (ipykernel)",
   "language": "python",
   "name": "python3"
  },
  "language_info": {
   "codemirror_mode": {
    "name": "ipython",
    "version": 3
   },
   "file_extension": ".py",
   "mimetype": "text/x-python",
   "name": "python",
   "nbconvert_exporter": "python",
   "pygments_lexer": "ipython3",
   "version": "3.10.6"
  }
 },
 "nbformat": 4,
 "nbformat_minor": 5
}
