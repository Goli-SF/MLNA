{
 "cells": [
  {
   "cell_type": "code",
   "execution_count": 1,
   "id": "08432ace-dce5-4ad3-868e-740e90d3b5d5",
   "metadata": {},
   "outputs": [],
   "source": [
    "import pandas as pd\n",
    "import pickle"
   ]
  },
  {
   "cell_type": "code",
   "execution_count": 2,
   "id": "3c171cca-b92f-4597-81e3-1b7016ec4e9d",
   "metadata": {},
   "outputs": [],
   "source": [
    "# loading the not-yet-installed mlna package in the notebook\n",
    "import sys\n",
    "import os\n",
    "\n",
    "# Get the absolute path of the \"root\" directory\n",
    "root_dir = os.path.abspath(os.path.join(os.getcwd(), '..'))\n",
    "\n",
    "# Add the \"root\" directory to sys.path\n",
    "if root_dir not in sys.path:\n",
    "    sys.path.insert(0, root_dir)\n",
    "\n",
    "# Now you can import the modules from the \"mlna\" package\n",
    "from mlna import network, preproc, user_input "
   ]
  },
  {
   "cell_type": "code",
   "execution_count": 3,
   "id": "8d045fd9-57a7-413e-8422-8412b6c29549",
   "metadata": {},
   "outputs": [
    {
     "data": {
      "text/html": [
       "<div>\n",
       "<style scoped>\n",
       "    .dataframe tbody tr th:only-of-type {\n",
       "        vertical-align: middle;\n",
       "    }\n",
       "\n",
       "    .dataframe tbody tr th {\n",
       "        vertical-align: top;\n",
       "    }\n",
       "\n",
       "    .dataframe thead th {\n",
       "        text-align: right;\n",
       "    }\n",
       "</style>\n",
       "<table border=\"1\" class=\"dataframe\">\n",
       "  <thead>\n",
       "    <tr style=\"text-align: right;\">\n",
       "      <th></th>\n",
       "      <th>text_id</th>\n",
       "      <th>file_name</th>\n",
       "      <th>title</th>\n",
       "      <th>source</th>\n",
       "      <th>year</th>\n",
       "      <th>full_text</th>\n",
       "    </tr>\n",
       "  </thead>\n",
       "  <tbody>\n",
       "    <tr>\n",
       "      <th>0</th>\n",
       "      <td>t_m_1277</td>\n",
       "      <td>1277_تاریخ منتظم ناصری.txt</td>\n",
       "      <td>اعتماداالسلطنه</td>\n",
       "      <td>اعتماداالسلطنه. تاریخ منتظم ناصری. جلد ۳. ص. 1833</td>\n",
       "      <td>1277</td>\n",
       "      <td>محمد ابراهیم خان سرتیپ اول افواج خمسه به لقب م...</td>\n",
       "    </tr>\n",
       "    <tr>\n",
       "      <th>1</th>\n",
       "      <td>g_q_1278</td>\n",
       "      <td>1278_گزارش وزیر امور خارجه درباره قرارداد تلگر...</td>\n",
       "      <td>گزارش وزیر امور خارجه درباره قرارداد تلگراف</td>\n",
       "      <td>یکصد سند تاریخی دوران قاجاریه. ابراهیم صفایی. ...</td>\n",
       "      <td>1278</td>\n",
       "      <td>قربان خاک پای جواهر آسای اقدس همایونت شوم. دست...</td>\n",
       "    </tr>\n",
       "    <tr>\n",
       "      <th>2</th>\n",
       "      <td>g_g_1283</td>\n",
       "      <td>1283_گزارش وزیر امور خارجه درباره گسترش تلگراف...</td>\n",
       "      <td>گزارش وزیر امور خارجه درباره گسترش تلگراف</td>\n",
       "      <td>یکصد سند تاریخی دوران قاجاریه. ابراهیم صفایی. ...</td>\n",
       "      <td>1283</td>\n",
       "      <td>قربان خاک پای جواهرآسای اقدس همایونت شوم. جواب...</td>\n",
       "    </tr>\n",
       "    <tr>\n",
       "      <th>3</th>\n",
       "      <td>n_s_1283</td>\n",
       "      <td>1283_نامه ساعد الملک درباره خطوط تلگرافی ایران...</td>\n",
       "      <td>نامه ساعد الملک درباره خطوط تلگرافی ایران</td>\n",
       "      <td>یکصد سند تاریخی دوران قاجاریه. ابراهیم صفایی. ...</td>\n",
       "      <td>1283</td>\n",
       "      <td>خدایگانا دربال گراندوک قسطنطنین به جناب مسیو ت...</td>\n",
       "    </tr>\n",
       "    <tr>\n",
       "      <th>4</th>\n",
       "      <td>p_m_1303</td>\n",
       "      <td>1303_پروگرام مشی کابینه آقای سردار سپه.txt</td>\n",
       "      <td>پروگرام مشی کابینه آقای سردار سپه</td>\n",
       "      <td>https://fa.wikisource.org/wiki/%D9%BE%D8%B1%D9...</td>\n",
       "      <td>1303</td>\n",
       "      <td>پروگرام مشی کابینهٔ آقای سردار سپهمصوب ۲۶ حمل ...</td>\n",
       "    </tr>\n",
       "  </tbody>\n",
       "</table>\n",
       "</div>"
      ],
      "text/plain": [
       "    text_id                                          file_name  \\\n",
       "0  t_m_1277                         1277_تاریخ منتظم ناصری.txt   \n",
       "1  g_q_1278  1278_گزارش وزیر امور خارجه درباره قرارداد تلگر...   \n",
       "2  g_g_1283  1283_گزارش وزیر امور خارجه درباره گسترش تلگراف...   \n",
       "3  n_s_1283  1283_نامه ساعد الملک درباره خطوط تلگرافی ایران...   \n",
       "4  p_m_1303         1303_پروگرام مشی کابینه آقای سردار سپه.txt   \n",
       "\n",
       "                                         title  \\\n",
       "0                               اعتماداالسلطنه   \n",
       "1  گزارش وزیر امور خارجه درباره قرارداد تلگراف   \n",
       "2    گزارش وزیر امور خارجه درباره گسترش تلگراف   \n",
       "3    نامه ساعد الملک درباره خطوط تلگرافی ایران   \n",
       "4            پروگرام مشی کابینه آقای سردار سپه   \n",
       "\n",
       "                                              source  year  \\\n",
       "0  اعتماداالسلطنه. تاریخ منتظم ناصری. جلد ۳. ص. 1833  1277   \n",
       "1  یکصد سند تاریخی دوران قاجاریه. ابراهیم صفایی. ...  1278   \n",
       "2  یکصد سند تاریخی دوران قاجاریه. ابراهیم صفایی. ...  1283   \n",
       "3  یکصد سند تاریخی دوران قاجاریه. ابراهیم صفایی. ...  1283   \n",
       "4  https://fa.wikisource.org/wiki/%D9%BE%D8%B1%D9...  1303   \n",
       "\n",
       "                                           full_text  \n",
       "0  محمد ابراهیم خان سرتیپ اول افواج خمسه به لقب م...  \n",
       "1  قربان خاک پای جواهر آسای اقدس همایونت شوم. دست...  \n",
       "2  قربان خاک پای جواهرآسای اقدس همایونت شوم. جواب...  \n",
       "3  خدایگانا دربال گراندوک قسطنطنین به جناب مسیو ت...  \n",
       "4  پروگرام مشی کابینهٔ آقای سردار سپهمصوب ۲۶ حمل ...  "
      ]
     },
     "execution_count": 3,
     "metadata": {},
     "output_type": "execute_result"
    }
   ],
   "source": [
    "# loading the texts and their metadata into the code from a pickled dataframe:\n",
    "data_path= \"./iran_telegraph_data/app_data/\"\n",
    "text_df= pd.read_excel(f'{data_path}telegraph_data.xlsx')\n",
    "\n",
    "text_df.head()"
   ]
  },
  {
   "cell_type": "code",
   "execution_count": 4,
   "id": "c65b72c3-f1de-44f0-90bb-1339430436ba",
   "metadata": {},
   "outputs": [
    {
     "name": "stdout",
     "output_type": "stream",
     "text": [
      "Enter the entities you are looking for in the texts. Press 'ENTER' to type the next entity. Enter 'done' when finished.\n",
      "\n",
      "PERSON : People, including fictional.\n",
      "NORP : Nationalities or religious or political groups.\n",
      "FAC : Buildings, airports, highways, bridges, etc.\n",
      "ORG : Companies, agencies, institutions, etc.\n",
      "GPE : Countries, cities, states.\n",
      "LOC : Non-GPE locations, mountain ranges, bodies of water.\n",
      "PRODUCT : Objects, vehicles, foods, etc. (Not services.)\n",
      "EVENT : Named hurricanes, battles, wars, sports events, etc.\n",
      "WORK_OF_ART : Titles of books, songs, etc.\n",
      "LAW : Named documents made into laws.\n",
      "LANGUAGE : Any named language.\n",
      "DATE : Absolute or relative dates or periods.\n",
      "MONEY : Monetary values, including unit.\n",
      "\n"
     ]
    },
    {
     "name": "stdin",
     "output_type": "stream",
     "text": [
      "Enter your choice:  person\n",
      "Enter your choice:  gpe\n",
      "Enter your choice:  done\n"
     ]
    },
    {
     "data": {
      "text/plain": [
       "['PERSON', 'GPE']"
      ]
     },
     "execution_count": 4,
     "metadata": {},
     "output_type": "execute_result"
    }
   ],
   "source": [
    "entity_tags= user_input.get_entities()\n",
    "entity_tags"
   ]
  },
  {
   "cell_type": "code",
   "execution_count": 5,
   "id": "563fd72f-bb4b-4218-9771-263835e3b6a9",
   "metadata": {},
   "outputs": [],
   "source": [
    "# if the user wants to manually add entities not included in the entity tag categories:\n",
    "user_ents=['telegraph']"
   ]
  },
  {
   "cell_type": "code",
   "execution_count": 6,
   "id": "46659ecb-c722-4324-abbe-b45dbfca3844",
   "metadata": {
    "scrolled": true
   },
   "outputs": [
    {
     "data": {
      "text/plain": [
       "{'Mirza Ghafar Khan': 'Mirza Jafar Khan',\n",
       " 'Mirzā Jaʿfar Khan': 'Mirza Jafar Khan',\n",
       " 'Peterburg': 'St Petersburg',\n",
       " 'Telegraph': 'telegraph',\n",
       " 'TelegraphNo': 'telegraph',\n",
       " 'Telegraphs': 'telegraph',\n",
       " 'ʿAliqoli Khan': 'Ali Gholi Khan',\n",
       " 'Teheran': 'Tehran',\n",
       " 'Mushir al -Dawlah': 'Moshir-al-Dawlah',\n",
       " 'Moshir al -Dawlah': 'Moshir-al-Dawlah',\n",
       " 'networkThe Indo-European Telegraph': 'Indo-European Telegraph',\n",
       " 'The Indo-European Telegraph Co.': 'Indo-European Telegraph',\n",
       " 'the Indo-European Telegraph Company': 'Indo-European Telegraph',\n",
       " 'The Indo-European Telegraph Department': 'Indo-European Telegraph',\n",
       " 'Indo European Telegraph Department': 'Indo-European Telegraph',\n",
       " 'Indo-European Telegraph Company': 'Indo-European Telegraph',\n",
       " 'The Indo-European Telegraph Company': 'Indo-European Telegraph',\n",
       " 'the Indo-European Telegraph Department': 'Indo-European Telegraph',\n",
       " 'the Indo-European Government Telegraph Department': 'Indo-European Telegraph',\n",
       " 'india': 'India',\n",
       " 'the Government of India': 'British Government',\n",
       " 'the British Government of India': 'British Government',\n",
       " 'the British Government': 'British Government',\n",
       " 'Bushire': 'Bushehr',\n",
       " 'Boushir': 'Bushehr',\n",
       " 'Mushire': 'Bushehr',\n",
       " 'Reuters': 'Reuter',\n",
       " 'Hamadan': 'Hamedan',\n",
       " 'Yimin al -Dawlah': 'Amin-al-Dawlah',\n",
       " 'Amin al -Dawlah': 'Amin-al-Dawlah',\n",
       " 'Georg Siemens': 'George Siemens',\n",
       " 'Ferash Bashi': 'Farash Bashi',\n",
       " 'Nāṣer-al-Din Shah': 'Naser-al-Din Shah',\n",
       " 'Naṣer-al-Din Shah': 'Naser-al-Din Shah',\n",
       " 'Kermān': 'Kerman',\n",
       " 'Mošir-al-Dawla': 'Moshir-al-Dawlah',\n",
       " 'Amin-al-Dawlah': 'Amin-al-Dawla',\n",
       " 'London E.': 'London',\n",
       " 'John Lieut': 'John Lt',\n",
       " 'Mirzā Āqā Khan Nuri': 'Agha Khan Nouri',\n",
       " 'Āqā Khan Nuri': 'Agha Khan Nouri',\n",
       " 'Dār al-Fonun': 'Dar-al-Fonun',\n",
       " 'Dar al -Fonun.': 'Dar-al-Fonun',\n",
       " 'Semnān': 'Semnan',\n",
       " 'Karzen': 'Kerzen',\n",
       " 'Al -Amr al -Adha al -Muta': 'Amin-al-Dawla',\n",
       " 'al -Amr al -Aqid al -Muta': 'Amin-al-Dawla',\n",
       " 'the Anglo-Russian Convention': 'Anglo-Russian Convention',\n",
       " 'Persia': 'Iran',\n",
       " 'British Government': 'Britain',\n",
       " 'Tabreez': 'Tabriz',\n",
       " 'telegraphBy': 'telegraph',\n",
       " 'Fadawi': 'Fadavi',\n",
       " 'Irann': 'Iran',\n",
       " 'Iranns': 'Iran',\n",
       " 'London C.': 'London',\n",
       " 'Mirza Aga Khan Nouri': 'Agha Khan Nouri',\n",
       " 'Moḵber-al-Dawla': 'Mokhber-al-Dawla',\n",
       " 'Eʿteżād-al-Salṭana': 'Etezad-al-Saltana',\n",
       " 'telegraphIt': 'telegraph',\n",
       " 'Aqdas Homayont': 'Shah',\n",
       " 'Aqdas Homayat': 'Shah',\n",
       " 'Makhbar al -Saltanah': 'Mokhber-al-Saltana',\n",
       " 'Makhbari al -Sultan': 'Mokhber-al-Saltana',\n",
       " 'Zanjān': 'Zanjan',\n",
       " 'the United Kingdom': 'United Kingdom',\n",
       " 'The United Kingdom': 'United Kingdom',\n",
       " 'Nawab': 'Navab',\n",
       " 'Nawab al': 'Navab',\n",
       " 'Nasser al': 'Naser-al-Din Shah',\n",
       " 'Nasser al -Din': 'Naser-al-Din Shah',\n",
       " 'Gholamreza Makhbar al -Dawlah': 'Mokhber-al-Dawlah',\n",
       " 'Aligholi Khan Makhbar al -Dawlah': 'Mokhber-al-Dawlah',\n",
       " 'Britain': 'the United Kingdom',\n",
       " 'Great Britain': 'the United Kingdom',\n",
       " 'Erevan': 'Yerevan',\n",
       " 'Bušehr': 'Bushehr',\n",
       " 'Navab al': 'Navab',\n",
       " 'Navab Navab': 'Navab',\n",
       " 'Naser-al-Din Shah -Din Shah': 'Naser-al-Din Shah',\n",
       " 'Naser-al-Din Shah -Din': 'Naser-al-Din Shah',\n",
       " 'Djulfa': 'Julfa',\n",
       " 'Julfa': 'Jolfa'}"
      ]
     },
     "execution_count": 6,
     "metadata": {},
     "output_type": "execute_result"
    }
   ],
   "source": [
    "# if the user already has a dictionary saved locally:\n",
    "dict_path=f\"{data_path}telegraph_user_dict.pickle\"\n",
    "with open(dict_path, 'rb') as f:\n",
    "    user_dict = pickle.load(f)\n",
    "\n",
    "# # if the user already has a dictionary saved locally and wants to expand it:\n",
    "# dict_path=f\"{data_path}telegraph_user_dict.pickle\"\n",
    "# user_dict= user_input.user_dict(text_df, entity_tags, user_ents=user_ents, dict_path=dict_path, threshold=70)\n",
    "\n",
    "# # if the user wants to create a dictionary from scratch:\n",
    "# user_dict= user_input.user_dict(text_df, entity_tags, user_ents=user_ents, dict_path=None, threshold=70)\n",
    "\n",
    "user_dict"
   ]
  },
  {
   "cell_type": "code",
   "execution_count": 7,
   "id": "daa40ff8-ae8e-42e5-b3fa-7ccf2bc711db",
   "metadata": {},
   "outputs": [
    {
     "name": "stdout",
     "output_type": "stream",
     "text": [
      "Enter the names of as many nodes as you wish. Press 'ENTER' to type the next name. Enter 'done' to exit.\n",
      "\n"
     ]
    },
    {
     "name": "stdin",
     "output_type": "stream",
     "text": [
      "Enter the name of a node:  jolfa\n"
     ]
    },
    {
     "name": "stdout",
     "output_type": "stream",
     "text": [
      "\n",
      "Invalid input. Please enter a valid node or enter 'done' to exit.\n"
     ]
    },
    {
     "name": "stdin",
     "output_type": "stream",
     "text": [
      "Enter the name of a node:  Jolfa\n"
     ]
    },
    {
     "name": "stdout",
     "output_type": "stream",
     "text": [
      "\n",
      "Invalid input. Please enter a valid node or enter 'done' to exit.\n"
     ]
    },
    {
     "name": "stdin",
     "output_type": "stream",
     "text": [
      "Enter the name of a node:  julfa\n"
     ]
    },
    {
     "name": "stdout",
     "output_type": "stream",
     "text": [
      "\n",
      "Invalid input. Please enter a valid node or enter 'done' to exit.\n"
     ]
    },
    {
     "name": "stdin",
     "output_type": "stream",
     "text": [
      "Enter the name of a node:  Djulfa\n"
     ]
    },
    {
     "name": "stdout",
     "output_type": "stream",
     "text": [
      "\n",
      "Invalid input. Please enter a valid node or enter 'done' to exit.\n"
     ]
    },
    {
     "name": "stdin",
     "output_type": "stream",
     "text": [
      "Enter the name of a node:  done\n"
     ]
    },
    {
     "data": {
      "text/plain": [
       "[]"
      ]
     },
     "execution_count": 7,
     "metadata": {},
     "output_type": "execute_result"
    }
   ],
   "source": [
    "# if the user only wants to visualize network relations between certain nodes or filter texts that include certain nodes:\n",
    "select_nodes=user_input.select_nodes(text_df, entity_tags=entity_tags, user_ents=user_ents, user_dict=user_dict)\n",
    "select_nodes"
   ]
  },
  {
   "cell_type": "code",
   "execution_count": null,
   "id": "41ddc839-f30e-4ddf-ba55-071c3fe8a2df",
   "metadata": {},
   "outputs": [],
   "source": [
    "# # if the user only wishes to see network relations among entities from certain texts: \n",
    "# sources= ['410_E_4_2', '410_E_4_3', '452_E_7', '480_E_9_1', '403_E_4_1']"
   ]
  },
  {
   "cell_type": "code",
   "execution_count": null,
   "id": "080c5a56-7ee4-4d31-be5b-922966816336",
   "metadata": {},
   "outputs": [],
   "source": [
    "# visualizing the network graph:\n",
    "network.visualize_network (text_df, entity_tags=entity_tags, user_ents=user_ents, user_dict=user_dict, \n",
    "                           core=False, select_nodes=None, sources=None,\n",
    "                           title='network_visualization', \n",
    "                           figsize=(1000, 700), bgcolor='black', font_color='white')"
   ]
  },
  {
   "cell_type": "code",
   "execution_count": null,
   "id": "2b4a9fbe-cfbd-4312-b874-5ab98ffb1934",
   "metadata": {},
   "outputs": [],
   "source": [
    "# visualizing the community graph:\n",
    "network.detect_community (text_df, entity_tags=entity_tags, user_ents=user_ents, \n",
    "                          user_dict=user_dict, title='community_detection',\n",
    "                          figsize=(1000, 700), bgcolor='black', font_color='white')"
   ]
  },
  {
   "cell_type": "code",
   "execution_count": null,
   "id": "a8226728-ecc7-4862-b661-ebbfba5c7526",
   "metadata": {},
   "outputs": [],
   "source": [
    "# selecting texts that contain certain nodes od\n",
    "filtered_texts= network.filter_network_data (text_df, select_nodes=['Naser-al-Din Shah', 'telegraph'], \n",
    "                                             entity_tags=entity_tags, \n",
    "                                             user_ents=user_ents, user_dict=user_dict, operator='AND')\n",
    "filtered_texts"
   ]
  },
  {
   "cell_type": "code",
   "execution_count": null,
   "id": "ae98487c-2783-4ff0-a190-c7ae664f338e",
   "metadata": {},
   "outputs": [],
   "source": []
  }
 ],
 "metadata": {
  "kernelspec": {
   "display_name": "Python 3 (ipykernel)",
   "language": "python",
   "name": "python3"
  },
  "language_info": {
   "codemirror_mode": {
    "name": "ipython",
    "version": 3
   },
   "file_extension": ".py",
   "mimetype": "text/x-python",
   "name": "python",
   "nbconvert_exporter": "python",
   "pygments_lexer": "ipython3",
   "version": "3.10.6"
  }
 },
 "nbformat": 4,
 "nbformat_minor": 5
}
