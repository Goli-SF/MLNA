{
 "cells": [
  {
   "cell_type": "code",
   "execution_count": 1,
   "id": "08432ace-dce5-4ad3-868e-740e90d3b5d5",
   "metadata": {},
   "outputs": [],
   "source": [
    "import pandas as pd\n",
    "import pickle"
   ]
  },
  {
   "cell_type": "code",
   "execution_count": 2,
   "id": "3c171cca-b92f-4597-81e3-1b7016ec4e9d",
   "metadata": {},
   "outputs": [],
   "source": [
    "# loading the not-yet-installed mlna package in the notebook:\n",
    "import sys\n",
    "import os\n",
    "\n",
    "# Get the absolute path of the \"root\" directory:\n",
    "root_dir = os.path.abspath(os.path.join(os.getcwd(), '..'))\n",
    "\n",
    "# Add the \"root\" directory to sys.path:\n",
    "if root_dir not in sys.path:\n",
    "    sys.path.insert(0, root_dir)\n",
    "\n",
    "# Now you can import the modules from the \"mlna\" package:\n",
    "from mlna import network, preproc, user_input "
   ]
  },
  {
   "cell_type": "markdown",
   "id": "deae8e95-1a14-454b-9d69-edf877c5dfb3",
   "metadata": {},
   "source": [
    "**Beginning of preparing material for the tests:**"
   ]
  },
  {
   "cell_type": "code",
   "execution_count": 3,
   "id": "6fcff2c3-0f41-449a-946b-3a85a5fc68aa",
   "metadata": {},
   "outputs": [
    {
     "data": {
      "text/html": [
       "<div>\n",
       "<style scoped>\n",
       "    .dataframe tbody tr th:only-of-type {\n",
       "        vertical-align: middle;\n",
       "    }\n",
       "\n",
       "    .dataframe tbody tr th {\n",
       "        vertical-align: top;\n",
       "    }\n",
       "\n",
       "    .dataframe thead th {\n",
       "        text-align: right;\n",
       "    }\n",
       "</style>\n",
       "<table border=\"1\" class=\"dataframe\">\n",
       "  <thead>\n",
       "    <tr style=\"text-align: right;\">\n",
       "      <th></th>\n",
       "      <th>text_id</th>\n",
       "      <th>title</th>\n",
       "      <th>full_text</th>\n",
       "    </tr>\n",
       "  </thead>\n",
       "  <tbody>\n",
       "    <tr>\n",
       "      <th>0</th>\n",
       "      <td>a_1</td>\n",
       "      <td>ناصرالدین شاه و سفر فرنگ</td>\n",
       "      <td>ناصر الدین شاه، پادشاه ایران، به همراه امین ال...</td>\n",
       "    </tr>\n",
       "    <tr>\n",
       "      <th>1</th>\n",
       "      <td>b_2</td>\n",
       "      <td>Qajar king and modernity</td>\n",
       "      <td>Naser-al-Din Shah was the king of Persia. He t...</td>\n",
       "    </tr>\n",
       "    <tr>\n",
       "      <th>2</th>\n",
       "      <td>c_3</td>\n",
       "      <td>Persien und neue Medien</td>\n",
       "      <td>Telegrafie wurde in the Qajar-Zeit im Iran vor...</td>\n",
       "    </tr>\n",
       "  </tbody>\n",
       "</table>\n",
       "</div>"
      ],
      "text/plain": [
       "  text_id                     title  \\\n",
       "0     a_1  ناصرالدین شاه و سفر فرنگ   \n",
       "1     b_2  Qajar king and modernity   \n",
       "2     c_3   Persien und neue Medien   \n",
       "\n",
       "                                           full_text  \n",
       "0  ناصر الدین شاه، پادشاه ایران، به همراه امین ال...  \n",
       "1  Naser-al-Din Shah was the king of Persia. He t...  \n",
       "2  Telegrafie wurde in the Qajar-Zeit im Iran vor...  "
      ]
     },
     "execution_count": 3,
     "metadata": {},
     "output_type": "execute_result"
    }
   ],
   "source": [
    "data_path= \"./iran_telegraph_data/app_data\"\n",
    "text_df= pd.read_pickle(f'{data_path}/test_df.pickle')\n",
    "text_df"
   ]
  },
  {
   "cell_type": "code",
   "execution_count": 4,
   "id": "6acea671-6e57-4c56-a32e-77fcd06e5aa0",
   "metadata": {},
   "outputs": [],
   "source": [
    "entity_tags= ['PERSON', 'GPE'] \n",
    "user_ents=['telegraph']"
   ]
  },
  {
   "cell_type": "code",
   "execution_count": 26,
   "id": "32dbfb02-865b-4bf3-8afd-d0deae6269e9",
   "metadata": {},
   "outputs": [
    {
     "name": "stdin",
     "output_type": "stream",
     "text": [
      "Do you wish to see all similar entities and define a constant spelling for them? Enter 'y' for YES and 'n' for NO:  n\n"
     ]
    },
    {
     "name": "stdout",
     "output_type": "stream",
     "text": [
      "\n"
     ]
    },
    {
     "name": "stdin",
     "output_type": "stream",
     "text": [
      "Enter the standard spelling of an entity:  done\n"
     ]
    },
    {
     "name": "stdout",
     "output_type": "stream",
     "text": [
      "\n",
      "Enter all vatiations of 'done' that exist among the entities. Enter 'done' to exit. Enter 'next' to set another standard spelling for another entity.\n",
      "\n"
     ]
    },
    {
     "name": "stdin",
     "output_type": "stream",
     "text": [
      "Enter a varying spelling of 'done':  done\n"
     ]
    },
    {
     "data": {
      "text/plain": [
       "{}"
      ]
     },
     "execution_count": 26,
     "metadata": {},
     "output_type": "execute_result"
    }
   ],
   "source": [
    "# if the user wants to create a dictionary from scratch:\n",
    "user_dict= user_input.make_user_dict(text_df, entity_tags=entity_tags, user_ents=user_ents, dict_path='test_dict.pickle', threshold=80)\n",
    "user_dict"
   ]
  },
  {
   "cell_type": "code",
   "execution_count": 5,
   "id": "57309990-f2d5-4584-8fe0-393538451d46",
   "metadata": {},
   "outputs": [
    {
     "data": {
      "text/plain": [
       "{'Nasser al -Din Shah': 'Nasser-al-Din Shah',\n",
       " 'Naser-al-Din Shah': 'Nasser-al-Din Shah',\n",
       " 'Nasser Al Din': 'Nasser-al-Din Shah',\n",
       " 'Persia': 'Iran'}"
      ]
     },
     "execution_count": 5,
     "metadata": {},
     "output_type": "execute_result"
    }
   ],
   "source": [
    "user_dict= pd.read_pickle('test_dict.pickle')\n",
    "user_dict"
   ]
  },
  {
   "cell_type": "code",
   "execution_count": 6,
   "id": "aff3b8fe-8591-4001-ba87-17aaaf055415",
   "metadata": {},
   "outputs": [
    {
     "name": "stdout",
     "output_type": "stream",
     "text": [
      "{'text_id': 'a_1', 'sentences': ['Nasser-al-Din Shah, the king of Iran, traveled with Amin al -Sultan.', 'He first traveled to Moscow and then to Paris.', 'He was introduced to the telegraph during the Paris trip.'], 'entities': [['Nasser-al-Din Shah', 'Iran', 'Amin al', '-Sultan'], ['Moscow', 'Paris'], ['Paris', 'telegraph']]}\n",
      "\n",
      "{'text_id': 'b_2', 'sentences': ['Nasser-al-Din Shah was the king of Iran.', 'He travelled to Paris from Tehran.', 'He visited Adolphe Thiers on his trip.'], 'entities': [['Nasser-al-Din Shah', 'Iran'], ['Paris', 'Tehran'], ['Adolphe Thiers']]}\n",
      "\n",
      "{'text_id': 'c_3', 'sentences': ['Telegraphy was presented in the Qajar period in Iran.', \"The Irann king in Tehran, Nasser-al-Din Shah, learned with the modern media during his trip to Paris, in Amin-Al-Saltana's accompaniment.\"], 'entities': [['Qajar', 'Iran'], ['Tehran', 'Nasser-al-Din Shah', 'Paris', 'Amin-Al-Saltana']]}\n",
      "\n"
     ]
    }
   ],
   "source": [
    "for i, row in text_df.iterrows():\n",
    "    text= text_df.loc[i, \"full_text\"]\n",
    "    text_id= text_df.loc[i, \"text_id\"]\n",
    "    entities= preproc.extract_entities (text, text_id, entity_tags=entity_tags, user_ents=user_ents, user_dict=user_dict)\n",
    "    print (entities)\n",
    "    print()"
   ]
  },
  {
   "cell_type": "code",
   "execution_count": 10,
   "id": "8095f017-e669-415e-b4c2-9673beda6d67",
   "metadata": {},
   "outputs": [
    {
     "data": {
      "text/html": [
       "<div>\n",
       "<style scoped>\n",
       "    .dataframe tbody tr th:only-of-type {\n",
       "        vertical-align: middle;\n",
       "    }\n",
       "\n",
       "    .dataframe tbody tr th {\n",
       "        vertical-align: top;\n",
       "    }\n",
       "\n",
       "    .dataframe thead th {\n",
       "        text-align: right;\n",
       "    }\n",
       "</style>\n",
       "<table border=\"1\" class=\"dataframe\">\n",
       "  <thead>\n",
       "    <tr style=\"text-align: right;\">\n",
       "      <th></th>\n",
       "      <th>text_id</th>\n",
       "      <th>source</th>\n",
       "      <th>target</th>\n",
       "      <th>weight</th>\n",
       "    </tr>\n",
       "  </thead>\n",
       "  <tbody>\n",
       "    <tr>\n",
       "      <th>0</th>\n",
       "      <td>a_1</td>\n",
       "      <td>Nasser-al-Din Shah</td>\n",
       "      <td>Iran</td>\n",
       "      <td>2</td>\n",
       "    </tr>\n",
       "    <tr>\n",
       "      <th>1</th>\n",
       "      <td>a_1</td>\n",
       "      <td>Nasser-al-Din Shah</td>\n",
       "      <td>Amin al</td>\n",
       "      <td>1</td>\n",
       "    </tr>\n",
       "    <tr>\n",
       "      <th>2</th>\n",
       "      <td>a_1</td>\n",
       "      <td>Nasser-al-Din Shah</td>\n",
       "      <td>-Sultan</td>\n",
       "      <td>1</td>\n",
       "    </tr>\n",
       "    <tr>\n",
       "      <th>3</th>\n",
       "      <td>a_1</td>\n",
       "      <td>Moscow</td>\n",
       "      <td>Paris</td>\n",
       "      <td>1</td>\n",
       "    </tr>\n",
       "    <tr>\n",
       "      <th>4</th>\n",
       "      <td>a_1</td>\n",
       "      <td>Paris</td>\n",
       "      <td>telegraph</td>\n",
       "      <td>1</td>\n",
       "    </tr>\n",
       "    <tr>\n",
       "      <th>5</th>\n",
       "      <td>b_2</td>\n",
       "      <td>Nasser-al-Din Shah</td>\n",
       "      <td>Iran</td>\n",
       "      <td>2</td>\n",
       "    </tr>\n",
       "    <tr>\n",
       "      <th>6</th>\n",
       "      <td>b_2</td>\n",
       "      <td>Paris</td>\n",
       "      <td>Tehran</td>\n",
       "      <td>1</td>\n",
       "    </tr>\n",
       "    <tr>\n",
       "      <th>7</th>\n",
       "      <td>c_3</td>\n",
       "      <td>Qajar</td>\n",
       "      <td>Iran</td>\n",
       "      <td>1</td>\n",
       "    </tr>\n",
       "    <tr>\n",
       "      <th>8</th>\n",
       "      <td>c_3</td>\n",
       "      <td>Tehran</td>\n",
       "      <td>Nasser-al-Din Shah</td>\n",
       "      <td>1</td>\n",
       "    </tr>\n",
       "    <tr>\n",
       "      <th>9</th>\n",
       "      <td>c_3</td>\n",
       "      <td>Tehran</td>\n",
       "      <td>Paris</td>\n",
       "      <td>1</td>\n",
       "    </tr>\n",
       "    <tr>\n",
       "      <th>10</th>\n",
       "      <td>c_3</td>\n",
       "      <td>Tehran</td>\n",
       "      <td>Amin-Al-Saltana</td>\n",
       "      <td>1</td>\n",
       "    </tr>\n",
       "  </tbody>\n",
       "</table>\n",
       "</div>"
      ],
      "text/plain": [
       "   text_id              source              target  weight\n",
       "0      a_1  Nasser-al-Din Shah                Iran       2\n",
       "1      a_1  Nasser-al-Din Shah             Amin al       1\n",
       "2      a_1  Nasser-al-Din Shah             -Sultan       1\n",
       "3      a_1              Moscow               Paris       1\n",
       "4      a_1               Paris           telegraph       1\n",
       "5      b_2  Nasser-al-Din Shah                Iran       2\n",
       "6      b_2               Paris              Tehran       1\n",
       "7      c_3               Qajar                Iran       1\n",
       "8      c_3              Tehran  Nasser-al-Din Shah       1\n",
       "9      c_3              Tehran               Paris       1\n",
       "10     c_3              Tehran     Amin-Al-Saltana       1"
      ]
     },
     "execution_count": 10,
     "metadata": {},
     "output_type": "execute_result"
    }
   ],
   "source": [
    "network_df= network.get_network_data (text_df, entity_tags, user_ents=user_ents, user_dict=user_dict)\n",
    "network_df"
   ]
  },
  {
   "cell_type": "code",
   "execution_count": 11,
   "id": "9bb8a485-7e72-46c5-9e58-7358a5fcface",
   "metadata": {},
   "outputs": [
    {
     "data": {
      "text/plain": [
       "['nasser-al-din shah',\n",
       " 'nasser-al-din shah',\n",
       " 'nasser-al-din shah',\n",
       " 'moscow',\n",
       " 'paris',\n",
       " 'nasser-al-din shah',\n",
       " 'paris',\n",
       " 'qajar',\n",
       " 'tehran',\n",
       " 'tehran',\n",
       " 'tehran']"
      ]
     },
     "execution_count": 11,
     "metadata": {},
     "output_type": "execute_result"
    }
   ],
   "source": [
    "list(map(lambda x: x.lower(), network_df['source']))"
   ]
  },
  {
   "cell_type": "code",
   "execution_count": 12,
   "id": "fe31a7e6-f111-4cd4-904c-000328c29c58",
   "metadata": {},
   "outputs": [
    {
     "data": {
      "text/plain": [
       "['iran',\n",
       " 'amin al',\n",
       " '-sultan',\n",
       " 'paris',\n",
       " 'telegraph',\n",
       " 'iran',\n",
       " 'tehran',\n",
       " 'iran',\n",
       " 'nasser-al-din shah',\n",
       " 'paris',\n",
       " 'amin-al-saltana']"
      ]
     },
     "execution_count": 12,
     "metadata": {},
     "output_type": "execute_result"
    }
   ],
   "source": [
    "list(map(lambda x: x.lower(), network_df['target']))"
   ]
  },
  {
   "cell_type": "code",
   "execution_count": 6,
   "id": "503deb43-345c-4cfb-9390-e30cd7681e69",
   "metadata": {},
   "outputs": [
    {
     "name": "stdout",
     "output_type": "stream",
     "text": [
      "Enter the names of as many nodes as you wish. Press 'ENTER' to type the next name. Enter 'done' to exit.\n",
      "\n"
     ]
    },
    {
     "name": "stdin",
     "output_type": "stream",
     "text": [
      "Enter the name of a node:  qajar\n",
      "Enter the name of a node:  nasser-al-din shah\n",
      "Enter the name of a node:  done\n"
     ]
    },
    {
     "data": {
      "text/plain": [
       "['qajar', 'nasser-al-din shah']"
      ]
     },
     "execution_count": 6,
     "metadata": {},
     "output_type": "execute_result"
    }
   ],
   "source": [
    "select_nodes= user_input.select_nodes (text_df, entity_tags, user_ents=user_ents, user_dict=user_dict)\n",
    "select_nodes"
   ]
  },
  {
   "cell_type": "code",
   "execution_count": null,
   "id": "f91d5db4-bd13-4c35-8663-7a95b064c0d2",
   "metadata": {},
   "outputs": [],
   "source": []
  },
  {
   "cell_type": "code",
   "execution_count": null,
   "id": "2ae96b7a-05ec-4f96-a1e0-ea3784baf4be",
   "metadata": {},
   "outputs": [],
   "source": []
  },
  {
   "cell_type": "code",
   "execution_count": null,
   "id": "9eafd5f2-cd59-4582-a625-6374bf771b70",
   "metadata": {},
   "outputs": [],
   "source": []
  },
  {
   "cell_type": "code",
   "execution_count": null,
   "id": "f47b35e4-3525-4285-acfa-bc3454103b37",
   "metadata": {},
   "outputs": [],
   "source": []
  },
  {
   "cell_type": "code",
   "execution_count": null,
   "id": "1db05ce6-3e31-46c7-8db4-3ea76ca9b313",
   "metadata": {},
   "outputs": [],
   "source": []
  },
  {
   "cell_type": "code",
   "execution_count": null,
   "id": "0d78e3ae-0738-4ddf-9dad-202bddaa7862",
   "metadata": {},
   "outputs": [],
   "source": []
  },
  {
   "cell_type": "markdown",
   "id": "9b6d3b8f-2b38-4c34-bb8e-f2f94b7fd3e0",
   "metadata": {},
   "source": [
    "**End of preparing material for the tests. Delete test_df.pickle from here when tests finished. It should only exist in the tests directory.**"
   ]
  },
  {
   "cell_type": "code",
   "execution_count": null,
   "id": "8d045fd9-57a7-413e-8422-8412b6c29549",
   "metadata": {},
   "outputs": [],
   "source": [
    "# loading the texts and their metadata into the code from a pickled dataframe:\n",
    "data_path= \"./iran_telegraph_data/app_data\"\n",
    "text_df= pd.read_excel(f'{data_path}/telegraph_data.xlsx')\n",
    "\n",
    "text_df"
   ]
  },
  {
   "cell_type": "code",
   "execution_count": null,
   "id": "c65b72c3-f1de-44f0-90bb-1339430436ba",
   "metadata": {},
   "outputs": [],
   "source": [
    "# choosing the entity categories that we would like to be included in the network graph and filtered texts:\n",
    "entity_tags= user_input.get_entities()\n",
    "entity_tags"
   ]
  },
  {
   "cell_type": "code",
   "execution_count": null,
   "id": "563fd72f-bb4b-4218-9771-263835e3b6a9",
   "metadata": {},
   "outputs": [],
   "source": [
    "# if the user wants to manually add entities not included in the entity tag categories:\n",
    "user_ents=['telegraph', 'Julfa']"
   ]
  },
  {
   "cell_type": "code",
   "execution_count": null,
   "id": "46659ecb-c722-4324-abbe-b45dbfca3844",
   "metadata": {
    "scrolled": true
   },
   "outputs": [],
   "source": [
    "# if the user already has a dictionary saved locally:\n",
    "dict_path=f\"{data_path}/telegraph_user_dict.pickle\"\n",
    "with open(dict_path, 'rb') as f:\n",
    "    user_dict = pickle.load(f)\n",
    "\n",
    "# # if the user already has a dictionary saved locally and wants to expand it:\n",
    "# dict_path=f\"{data_path}telegraph_user_dict.pickle\"\n",
    "# user_dict= user_input.make_user_dict(text_df, entity_tags=entity_tags, user_ents=user_ents, dict_path=dict_path, threshold=70)\n",
    "\n",
    "# # if the user wants to create a dictionary from scratch:\n",
    "# user_dict= user_input.make_user_dict(text_df, entity_tags=entity_tags, user_ents=user_ents, dict_path=None, threshold=70)\n",
    "\n",
    "user_dict"
   ]
  },
  {
   "cell_type": "code",
   "execution_count": null,
   "id": "659a3cb4-b1bd-4055-8b6c-0199b94e8f0d",
   "metadata": {
    "scrolled": true
   },
   "outputs": [],
   "source": [
    "\"\"\"\n",
    "Manipulating the user_dict:\n",
    "\"\"\"\n",
    "# user_dict['Etemad al -Saltanah']= 'Etemad-al-Saltana'\n",
    "# pd.to_pickle(user_dict, f\"{data_path}/telegraph_user_dict.pickle\")\n",
    "\n",
    "# user_dict"
   ]
  },
  {
   "cell_type": "code",
   "execution_count": null,
   "id": "e0903ae4-d5f2-440c-a598-f7f02e0a4cf3",
   "metadata": {
    "scrolled": true
   },
   "outputs": [],
   "source": [
    "\"\"\"\n",
    "Checking if Julfa is in the entities:\n",
    "\"\"\"\n",
    "# text= text_df.loc[11, 'full_text']\n",
    "# text_id='403_E_4_1'\n",
    "# ent_dict=preproc.extract_entities (text, text_id, entity_tags=entity_tags, user_ents=user_ents, user_dict=user_dict)\n",
    "# dict_df= pd.DataFrame(ent_dict)\n",
    "# dict_df"
   ]
  },
  {
   "cell_type": "code",
   "execution_count": null,
   "id": "41ddc839-f30e-4ddf-ba55-071c3fe8a2df",
   "metadata": {},
   "outputs": [],
   "source": [
    "# # if the user only wishes to see network relations among entities from certain texts: \n",
    "# sources= ['410_E_4_2', '410_E_4_3', '452_E_7', '480_E_9_1', '403_E_4_1']"
   ]
  },
  {
   "cell_type": "code",
   "execution_count": null,
   "id": "080c5a56-7ee4-4d31-be5b-922966816336",
   "metadata": {},
   "outputs": [],
   "source": [
    "# visualizing the network graph:\n",
    "network.visualize_network (text_df, entity_tags=entity_tags, user_ents=user_ents, user_dict=user_dict, \n",
    "                           core=False, select_nodes=None, sources=None,\n",
    "                           title='network_visualization_2', \n",
    "                           figsize=(1000, 700), bgcolor='black', font_color='white')"
   ]
  },
  {
   "cell_type": "code",
   "execution_count": null,
   "id": "2b4a9fbe-cfbd-4312-b874-5ab98ffb1934",
   "metadata": {},
   "outputs": [],
   "source": [
    "# visualizing the community graph:\n",
    "network.detect_community (text_df, entity_tags=entity_tags, user_ents=user_ents, \n",
    "                          user_dict=user_dict, title='community_detection',\n",
    "                          figsize=(1000, 700), bgcolor='black', font_color='white')"
   ]
  },
  {
   "cell_type": "code",
   "execution_count": null,
   "id": "daa40ff8-ae8e-42e5-b3fa-7ccf2bc711db",
   "metadata": {
    "scrolled": true
   },
   "outputs": [],
   "source": [
    "# if the user only wants to visualize network relations between certain nodes or filter texts that include certain nodes:\n",
    "select_nodes=user_input.select_nodes(text_df, entity_tags=entity_tags, user_ents=user_ents, user_dict=user_dict)\n",
    "select_nodes"
   ]
  },
  {
   "cell_type": "code",
   "execution_count": null,
   "id": "a8226728-ecc7-4862-b661-ebbfba5c7526",
   "metadata": {
    "scrolled": true
   },
   "outputs": [],
   "source": [
    "# selecting texts that contain certain nodes od:\n",
    "filtered_texts= network.filter_network_data (text_df, select_nodes=['Naser-al-din shah'], \n",
    "                                             entity_tags=entity_tags, \n",
    "                                             user_ents=user_ents, user_dict=user_dict, operator='OR')\n",
    "filtered_texts"
   ]
  },
  {
   "cell_type": "code",
   "execution_count": null,
   "id": "ae98487c-2783-4ff0-a190-c7ae664f338e",
   "metadata": {},
   "outputs": [],
   "source": [
    "# saving the filtered text to an excel file to share them with other people:\n",
    "filtered_texts.to_excel(f\"{data_path}/filtered_texts.xlsx\", index=False)"
   ]
  }
 ],
 "metadata": {
  "kernelspec": {
   "display_name": "Python 3 (ipykernel)",
   "language": "python",
   "name": "python3"
  },
  "language_info": {
   "codemirror_mode": {
    "name": "ipython",
    "version": 3
   },
   "file_extension": ".py",
   "mimetype": "text/x-python",
   "name": "python",
   "nbconvert_exporter": "python",
   "pygments_lexer": "ipython3",
   "version": "3.10.6"
  }
 },
 "nbformat": 4,
 "nbformat_minor": 5
}
